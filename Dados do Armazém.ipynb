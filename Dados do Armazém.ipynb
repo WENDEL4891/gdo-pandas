{
 "cells": [
  {
   "cell_type": "code",
   "execution_count": 84,
   "metadata": {},
   "outputs": [],
   "source": [
    "mes=4"
   ]
  },
  {
   "cell_type": "code",
   "execution_count": 107,
   "metadata": {
    "collapsed": true
   },
   "outputs": [
    {
     "name": "stdout",
     "output_type": "stream",
     "text": [
      "WARNING *** file size (255262) not 512 + multiple of sector size (512)\n",
      "WARNING *** OLE2 inconsistency: SSCS size is 0 but SSAT size is non-zero\n",
      "WARNING *** file size (37431) not 512 + multiple of sector size (512)\n",
      "WARNING *** OLE2 inconsistency: SSCS size is 0 but SSAT size is non-zero\n",
      "WARNING *** file size (671594) not 512 + multiple of sector size (512)\n",
      "WARNING *** OLE2 inconsistency: SSCS size is 0 but SSAT size is non-zero\n",
      "WARNING *** file size (289760) not 512 + multiple of sector size (512)\n",
      "WARNING *** OLE2 inconsistency: SSCS size is 0 but SSAT size is non-zero\n",
      "WARNING *** file size (289760) not 512 + multiple of sector size (512)\n",
      "WARNING *** OLE2 inconsistency: SSCS size is 0 but SSAT size is non-zero\n",
      "WARNING *** file size (289760) not 512 + multiple of sector size (512)\n",
      "WARNING *** OLE2 inconsistency: SSCS size is 0 but SSAT size is non-zero\n",
      "WARNING *** file size (231039) not 512 + multiple of sector size (512)\n",
      "WARNING *** OLE2 inconsistency: SSCS size is 0 but SSAT size is non-zero\n",
      "WARNING *** file size (231039) not 512 + multiple of sector size (512)\n",
      "WARNING *** OLE2 inconsistency: SSCS size is 0 but SSAT size is non-zero\n"
     ]
    }
   ],
   "source": [
    "%run -i funcs_armazem.py\n",
    "%matplotlib inline"
   ]
  },
  {
   "cell_type": "code",
   "execution_count": 108,
   "metadata": {},
   "outputs": [
    {
     "name": "stderr",
     "output_type": "stream",
     "text": [
      "funcs_armazem.py:67: FutureWarning: Sorting because non-concatenation axis is not aligned. A future version\n",
      "of pandas will change to not sort by default.\n",
      "\n",
      "To accept the future behavior, pass 'sort=False'.\n",
      "\n",
      "To retain the current behavior and silence the warning, pass 'sort=True'.\n",
      "\n",
      "  concat_arm_sim = pd.concat([armas,simulacros]).fillna(0)\n"
     ]
    }
   ],
   "source": [
    "metas = get_metas(mes=mes)\n",
    "pop = get_populacao()\n",
    "dados = get_data()"
   ]
  },
  {
   "cell_type": "code",
   "execution_count": 109,
   "metadata": {
    "scrolled": false
   },
   "outputs": [
    {
     "data": {
      "text/html": [
       "<div>\n",
       "<style scoped>\n",
       "    .dataframe tbody tr th:only-of-type {\n",
       "        vertical-align: middle;\n",
       "    }\n",
       "\n",
       "    .dataframe tbody tr th {\n",
       "        vertical-align: top;\n",
       "    }\n",
       "\n",
       "    .dataframe thead tr th {\n",
       "        text-align: left;\n",
       "    }\n",
       "\n",
       "    .dataframe thead tr:last-of-type th {\n",
       "        text-align: right;\n",
       "    }\n",
       "</style>\n",
       "<table border=\"1\" class=\"dataframe\">\n",
       "  <thead>\n",
       "    <tr>\n",
       "      <th></th>\n",
       "      <th colspan=\"5\" halign=\"left\">tcv_abs</th>\n",
       "    </tr>\n",
       "    <tr>\n",
       "      <th></th>\n",
       "      <th>1</th>\n",
       "      <th>2</th>\n",
       "      <th>3</th>\n",
       "      <th>4</th>\n",
       "      <th>ACUM</th>\n",
       "    </tr>\n",
       "    <tr>\n",
       "      <th>CIA</th>\n",
       "      <th></th>\n",
       "      <th></th>\n",
       "      <th></th>\n",
       "      <th></th>\n",
       "      <th></th>\n",
       "    </tr>\n",
       "  </thead>\n",
       "  <tbody>\n",
       "    <tr>\n",
       "      <th>139 CIA</th>\n",
       "      <td>28</td>\n",
       "      <td>29</td>\n",
       "      <td>26</td>\n",
       "      <td>27</td>\n",
       "      <td>110</td>\n",
       "    </tr>\n",
       "    <tr>\n",
       "      <th>142 CIA</th>\n",
       "      <td>50</td>\n",
       "      <td>45</td>\n",
       "      <td>27</td>\n",
       "      <td>26</td>\n",
       "      <td>148</td>\n",
       "    </tr>\n",
       "    <tr>\n",
       "      <th>51 CIA</th>\n",
       "      <td>30</td>\n",
       "      <td>21</td>\n",
       "      <td>23</td>\n",
       "      <td>19</td>\n",
       "      <td>93</td>\n",
       "    </tr>\n",
       "    <tr>\n",
       "      <th>53 CIA</th>\n",
       "      <td>25</td>\n",
       "      <td>14</td>\n",
       "      <td>11</td>\n",
       "      <td>6</td>\n",
       "      <td>56</td>\n",
       "    </tr>\n",
       "    <tr>\n",
       "      <th>TOTAL</th>\n",
       "      <td>133</td>\n",
       "      <td>109</td>\n",
       "      <td>87</td>\n",
       "      <td>78</td>\n",
       "      <td>407</td>\n",
       "    </tr>\n",
       "  </tbody>\n",
       "</table>\n",
       "</div>"
      ],
      "text/plain": [
       "        tcv_abs                  \n",
       "              1    2   3   4 ACUM\n",
       "CIA                              \n",
       "139 CIA      28   29  26  27  110\n",
       "142 CIA      50   45  27  26  148\n",
       "51 CIA       30   21  23  19   93\n",
       "53 CIA       25   14  11   6   56\n",
       "TOTAL       133  109  87  78  407"
      ]
     },
     "metadata": {},
     "output_type": "display_data"
    },
    {
     "data": {
      "text/html": [
       "<div>\n",
       "<style scoped>\n",
       "    .dataframe tbody tr th:only-of-type {\n",
       "        vertical-align: middle;\n",
       "    }\n",
       "\n",
       "    .dataframe tbody tr th {\n",
       "        vertical-align: top;\n",
       "    }\n",
       "\n",
       "    .dataframe thead tr th {\n",
       "        text-align: left;\n",
       "    }\n",
       "\n",
       "    .dataframe thead tr:last-of-type th {\n",
       "        text-align: right;\n",
       "    }\n",
       "</style>\n",
       "<table border=\"1\" class=\"dataframe\">\n",
       "  <thead>\n",
       "    <tr>\n",
       "      <th></th>\n",
       "      <th>POPULACOES</th>\n",
       "    </tr>\n",
       "    <tr>\n",
       "      <th></th>\n",
       "      <th>POPULACAO</th>\n",
       "    </tr>\n",
       "    <tr>\n",
       "      <th>CIA</th>\n",
       "      <th></th>\n",
       "    </tr>\n",
       "  </thead>\n",
       "  <tbody>\n",
       "    <tr>\n",
       "      <th>139 CIA</th>\n",
       "      <td>102919</td>\n",
       "    </tr>\n",
       "    <tr>\n",
       "      <th>142 CIA</th>\n",
       "      <td>129575</td>\n",
       "    </tr>\n",
       "    <tr>\n",
       "      <th>51 CIA</th>\n",
       "      <td>104360</td>\n",
       "    </tr>\n",
       "    <tr>\n",
       "      <th>53 CIA</th>\n",
       "      <td>69242</td>\n",
       "    </tr>\n",
       "    <tr>\n",
       "      <th>TOTAL</th>\n",
       "      <td>406096</td>\n",
       "    </tr>\n",
       "  </tbody>\n",
       "</table>\n",
       "</div>"
      ],
      "text/plain": [
       "        POPULACOES\n",
       "         POPULACAO\n",
       "CIA               \n",
       "139 CIA     102919\n",
       "142 CIA     129575\n",
       "51 CIA      104360\n",
       "53 CIA       69242\n",
       "TOTAL       406096"
      ]
     },
     "metadata": {},
     "output_type": "display_data"
    },
    {
     "data": {
      "text/html": [
       "<div>\n",
       "<style scoped>\n",
       "    .dataframe tbody tr th:only-of-type {\n",
       "        vertical-align: middle;\n",
       "    }\n",
       "\n",
       "    .dataframe tbody tr th {\n",
       "        vertical-align: top;\n",
       "    }\n",
       "\n",
       "    .dataframe thead tr th {\n",
       "        text-align: left;\n",
       "    }\n",
       "\n",
       "    .dataframe thead tr:last-of-type th {\n",
       "        text-align: right;\n",
       "    }\n",
       "</style>\n",
       "<table border=\"1\" class=\"dataframe\">\n",
       "  <thead>\n",
       "    <tr>\n",
       "      <th></th>\n",
       "      <th colspan=\"5\" halign=\"left\">tcv_taxa</th>\n",
       "    </tr>\n",
       "    <tr>\n",
       "      <th></th>\n",
       "      <th>1</th>\n",
       "      <th>2</th>\n",
       "      <th>3</th>\n",
       "      <th>4</th>\n",
       "      <th>ACUM</th>\n",
       "    </tr>\n",
       "    <tr>\n",
       "      <th>CIA</th>\n",
       "      <th></th>\n",
       "      <th></th>\n",
       "      <th></th>\n",
       "      <th></th>\n",
       "      <th></th>\n",
       "    </tr>\n",
       "  </thead>\n",
       "  <tbody>\n",
       "    <tr>\n",
       "      <th>139 CIA</th>\n",
       "      <td>27.21</td>\n",
       "      <td>28.18</td>\n",
       "      <td>25.26</td>\n",
       "      <td>26.23</td>\n",
       "      <td>106.88</td>\n",
       "    </tr>\n",
       "    <tr>\n",
       "      <th>142 CIA</th>\n",
       "      <td>38.59</td>\n",
       "      <td>34.73</td>\n",
       "      <td>20.84</td>\n",
       "      <td>20.07</td>\n",
       "      <td>114.22</td>\n",
       "    </tr>\n",
       "    <tr>\n",
       "      <th>51 CIA</th>\n",
       "      <td>28.75</td>\n",
       "      <td>20.12</td>\n",
       "      <td>22.04</td>\n",
       "      <td>18.21</td>\n",
       "      <td>89.11</td>\n",
       "    </tr>\n",
       "    <tr>\n",
       "      <th>53 CIA</th>\n",
       "      <td>36.11</td>\n",
       "      <td>20.22</td>\n",
       "      <td>15.89</td>\n",
       "      <td>8.67</td>\n",
       "      <td>80.88</td>\n",
       "    </tr>\n",
       "    <tr>\n",
       "      <th>TOTAL</th>\n",
       "      <td>32.75</td>\n",
       "      <td>26.84</td>\n",
       "      <td>21.42</td>\n",
       "      <td>19.21</td>\n",
       "      <td>100.22</td>\n",
       "    </tr>\n",
       "  </tbody>\n",
       "</table>\n",
       "</div>"
      ],
      "text/plain": [
       "        tcv_taxa                             \n",
       "               1      2      3      4    ACUM\n",
       "CIA                                          \n",
       "139 CIA    27.21  28.18  25.26  26.23  106.88\n",
       "142 CIA    38.59  34.73  20.84  20.07  114.22\n",
       "51 CIA     28.75  20.12  22.04  18.21   89.11\n",
       "53 CIA     36.11  20.22  15.89   8.67   80.88\n",
       "TOTAL      32.75  26.84  21.42  19.21  100.22"
      ]
     },
     "metadata": {},
     "output_type": "display_data"
    }
   ],
   "source": [
    "display(\n",
    "    dados['tcv'],\n",
    "    pop,\n",
    "    dados['tcv_taxa']\n",
    ")"
   ]
  },
  {
   "cell_type": "code",
   "execution_count": 332,
   "metadata": {},
   "outputs": [
    {
     "data": {
      "text/plain": [
       "34.72892147404978"
      ]
     },
     "execution_count": 332,
     "metadata": {},
     "output_type": "execute_result"
    }
   ],
   "source": [
    "45/129575*100000"
   ]
  },
  {
   "cell_type": "code",
   "execution_count": 250,
   "metadata": {},
   "outputs": [
    {
     "name": "stdout",
     "output_type": "stream",
     "text": [
      "<class 'pandas.core.frame.DataFrame'>\n",
      "RangeIndex: 540 entries, 0 to 539\n",
      "Data columns (total 4 columns):\n",
      "MES          540 non-null int64\n",
      "META         540 non-null float64\n",
      "CIA          540 non-null object\n",
      "INDICADOR    540 non-null object\n",
      "dtypes: float64(1), int64(1), object(2)\n",
      "memory usage: 17.0+ KB\n"
     ]
    }
   ],
   "source": [
    "metas = pd.read_sql_table('tbl_metas', 'sqlite:///gdo.db')\n",
    "metas.info()"
   ]
  },
  {
   "cell_type": "code",
   "execution_count": 195,
   "metadata": {},
   "outputs": [
    {
     "data": {
      "text/plain": [
       "84    0.964844\n",
       "85    0.000000\n",
       "86    0.964844\n",
       "87    0.964844\n",
       "88    0.964844\n",
       "89    0.000000\n",
       "90    0.000000\n",
       "91    0.000000\n",
       "92    0.000000\n",
       "93    0.000000\n",
       "94    0.964844\n",
       "95    0.000000\n",
       "Name: META, dtype: float16"
      ]
     },
     "execution_count": 195,
     "metadata": {},
     "output_type": "execute_result"
    }
   ],
   "source": [
    "metas[\n",
    "    ( metas['CIA'] == '53 CIA' )\n",
    "    & (metas['INDICADOR'] == 'THC')\n",
    "]['META']"
   ]
  },
  {
   "cell_type": "code",
   "execution_count": 215,
   "metadata": {},
   "outputs": [],
   "source": [
    "# metas = pd.read_csv('files/metas.csv', dtype={'META':'float16'}, decimal=',')\n",
    "# metas.to_sql('tbl_metas', 'sqlite:///gdo.db', index=False, if_exists='replace')"
   ]
  },
  {
   "cell_type": "code",
   "execution_count": 224,
   "metadata": {},
   "outputs": [],
   "source": [
    "# 53ª Cia PM\t69.242\n",
    "# 139ª Cia PM\t102.919\n",
    "# 142ª Cia PM\t129.575\n",
    "# 51ª Cia PM\t104.360\n",
    "\n",
    "pops = pd.DataFrame({\n",
    "    'CIA':['53 CIA', '139 CIA', '142 CIA', '51 CIA'],\n",
    "    'POPULACAO':[69242,102919,129575,104360]\n",
    "})\n",
    "pops.to_sql('tbl_populacoes', 'sqlite:///gdo.db', index=False)"
   ]
  },
  {
   "cell_type": "code",
   "execution_count": 221,
   "metadata": {},
   "outputs": [
    {
     "data": {
      "text/plain": [
       "iinfo(min=0, max=4294967295, dtype=uint32)"
      ]
     },
     "execution_count": 221,
     "metadata": {},
     "output_type": "execute_result"
    }
   ],
   "source": [
    "np.iinfo('uint32')"
   ]
  }
 ],
 "metadata": {
  "kernelspec": {
   "display_name": "Python 3",
   "language": "python",
   "name": "python3"
  },
  "language_info": {
   "codemirror_mode": {
    "name": "ipython",
    "version": 3
   },
   "file_extension": ".py",
   "mimetype": "text/x-python",
   "name": "python",
   "nbconvert_exporter": "python",
   "pygments_lexer": "ipython3",
   "version": "3.7.3"
  }
 },
 "nbformat": 4,
 "nbformat_minor": 2
}
