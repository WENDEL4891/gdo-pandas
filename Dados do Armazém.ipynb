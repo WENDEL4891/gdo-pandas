{
 "cells": [
  {
   "cell_type": "code",
   "execution_count": 2,
   "metadata": {},
   "outputs": [],
   "source": [
    "mes=4"
   ]
  },
  {
   "cell_type": "code",
   "execution_count": 10,
   "metadata": {
    "collapsed": true
   },
   "outputs": [
    {
     "name": "stdout",
     "output_type": "stream",
     "text": [
      "WARNING *** file size (265753) not 512 + multiple of sector size (512)\n",
      "WARNING *** OLE2 inconsistency: SSCS size is 0 but SSAT size is non-zero\n",
      "WARNING *** file size (37433) not 512 + multiple of sector size (512)\n",
      "WARNING *** OLE2 inconsistency: SSCS size is 0 but SSAT size is non-zero\n",
      "WARNING *** file size (671597) not 512 + multiple of sector size (512)\n",
      "WARNING *** OLE2 inconsistency: SSCS size is 0 but SSAT size is non-zero\n",
      "WARNING *** file size (289760) not 512 + multiple of sector size (512)\n",
      "WARNING *** OLE2 inconsistency: SSCS size is 0 but SSAT size is non-zero\n",
      "WARNING *** file size (289760) not 512 + multiple of sector size (512)\n",
      "WARNING *** OLE2 inconsistency: SSCS size is 0 but SSAT size is non-zero\n",
      "WARNING *** file size (289760) not 512 + multiple of sector size (512)\n",
      "WARNING *** OLE2 inconsistency: SSCS size is 0 but SSAT size is non-zero\n",
      "WARNING *** file size (231043) not 512 + multiple of sector size (512)\n",
      "WARNING *** OLE2 inconsistency: SSCS size is 0 but SSAT size is non-zero\n",
      "WARNING *** file size (231043) not 512 + multiple of sector size (512)\n",
      "WARNING *** OLE2 inconsistency: SSCS size is 0 but SSAT size is non-zero\n"
     ]
    }
   ],
   "source": [
    "%run -i funcs_armazem.py\n",
    "%matplotlib inline"
   ]
  },
  {
   "cell_type": "code",
   "execution_count": 34,
   "metadata": {},
   "outputs": [
    {
     "data": {
      "text/html": [
       "<div>\n",
       "<style scoped>\n",
       "    .dataframe tbody tr th:only-of-type {\n",
       "        vertical-align: middle;\n",
       "    }\n",
       "\n",
       "    .dataframe tbody tr th {\n",
       "        vertical-align: top;\n",
       "    }\n",
       "\n",
       "    .dataframe thead th {\n",
       "        text-align: right;\n",
       "    }\n",
       "</style>\n",
       "<table border=\"1\" class=\"dataframe\">\n",
       "  <thead>\n",
       "    <tr style=\"text-align: right;\">\n",
       "      <th>MES</th>\n",
       "      <th>1</th>\n",
       "      <th>2</th>\n",
       "      <th>3</th>\n",
       "      <th>4</th>\n",
       "      <th>ACUM</th>\n",
       "    </tr>\n",
       "    <tr>\n",
       "      <th>23_CIA</th>\n",
       "      <th></th>\n",
       "      <th></th>\n",
       "      <th></th>\n",
       "      <th></th>\n",
       "      <th></th>\n",
       "    </tr>\n",
       "  </thead>\n",
       "  <tbody>\n",
       "    <tr>\n",
       "      <td>139 CIA</td>\n",
       "      <td>28</td>\n",
       "      <td>29</td>\n",
       "      <td>26</td>\n",
       "      <td>27</td>\n",
       "      <td>2530</td>\n",
       "    </tr>\n",
       "    <tr>\n",
       "      <td>142 CIA</td>\n",
       "      <td>50</td>\n",
       "      <td>45</td>\n",
       "      <td>27</td>\n",
       "      <td>26</td>\n",
       "      <td>3404</td>\n",
       "    </tr>\n",
       "    <tr>\n",
       "      <td>51 CIA</td>\n",
       "      <td>30</td>\n",
       "      <td>21</td>\n",
       "      <td>23</td>\n",
       "      <td>19</td>\n",
       "      <td>2139</td>\n",
       "    </tr>\n",
       "    <tr>\n",
       "      <td>53 CIA</td>\n",
       "      <td>25</td>\n",
       "      <td>14</td>\n",
       "      <td>11</td>\n",
       "      <td>6</td>\n",
       "      <td>1288</td>\n",
       "    </tr>\n",
       "    <tr>\n",
       "      <td>TOTAL</td>\n",
       "      <td>2660</td>\n",
       "      <td>2180</td>\n",
       "      <td>1740</td>\n",
       "      <td>1560</td>\n",
       "      <td>187220</td>\n",
       "    </tr>\n",
       "  </tbody>\n",
       "</table>\n",
       "</div>"
      ],
      "text/plain": [
       "MES         1     2     3     4    ACUM\n",
       "23_CIA                                 \n",
       "139 CIA    28    29    26    27    2530\n",
       "142 CIA    50    45    27    26    3404\n",
       "51 CIA     30    21    23    19    2139\n",
       "53 CIA     25    14    11     6    1288\n",
       "TOTAL    2660  2180  1740  1560  187220"
      ]
     },
     "execution_count": 34,
     "metadata": {},
     "output_type": "execute_result"
    }
   ],
   "source": [
    "# tcv_by_cia_mes['ACUM'] = tcv_by_cia_mes.sum(1)\n",
    "# tcv_by_cia_mes.loc['TOTAL'] = tcv_by_cia_mes.sum()\n",
    "# tcv_by_cia_mes\n",
    "# meta_tcv = metas_by_cia_indicador_mes.xs('TCV', level=1)\n",
    "# meta_tcv['ACUM'] = meta_tcv.sum(1)\n",
    "# meta_tcv.loc['TOTAL'] = meta_tcv.sum()\n",
    "# meta_tcv"
   ]
  },
  {
   "cell_type": "code",
   "execution_count": 250,
   "metadata": {},
   "outputs": [
    {
     "name": "stdout",
     "output_type": "stream",
     "text": [
      "<class 'pandas.core.frame.DataFrame'>\n",
      "RangeIndex: 540 entries, 0 to 539\n",
      "Data columns (total 4 columns):\n",
      "MES          540 non-null int64\n",
      "META         540 non-null float64\n",
      "CIA          540 non-null object\n",
      "INDICADOR    540 non-null object\n",
      "dtypes: float64(1), int64(1), object(2)\n",
      "memory usage: 17.0+ KB\n"
     ]
    }
   ],
   "source": [
    "metas = pd.read_sql_table('tbl_metas', 'sqlite:///gdo.db')\n",
    "metas.info()"
   ]
  },
  {
   "cell_type": "code",
   "execution_count": 195,
   "metadata": {},
   "outputs": [
    {
     "data": {
      "text/plain": [
       "84    0.964844\n",
       "85    0.000000\n",
       "86    0.964844\n",
       "87    0.964844\n",
       "88    0.964844\n",
       "89    0.000000\n",
       "90    0.000000\n",
       "91    0.000000\n",
       "92    0.000000\n",
       "93    0.000000\n",
       "94    0.964844\n",
       "95    0.000000\n",
       "Name: META, dtype: float16"
      ]
     },
     "execution_count": 195,
     "metadata": {},
     "output_type": "execute_result"
    }
   ],
   "source": [
    "metas[\n",
    "    ( metas['CIA'] == '53 CIA' )\n",
    "    & (metas['INDICADOR'] == 'THC')\n",
    "]['META']"
   ]
  },
  {
   "cell_type": "code",
   "execution_count": 215,
   "metadata": {},
   "outputs": [],
   "source": [
    "# metas = pd.read_csv('files/metas.csv', dtype={'META':'float16'}, decimal=',')\n",
    "# metas.to_sql('tbl_metas', 'sqlite:///gdo.db', index=False, if_exists='replace')"
   ]
  },
  {
   "cell_type": "code",
   "execution_count": 224,
   "metadata": {},
   "outputs": [],
   "source": [
    "# 53ª Cia PM\t69.242\n",
    "# 139ª Cia PM\t102.919\n",
    "# 142ª Cia PM\t129.575\n",
    "# 51ª Cia PM\t104.360\n",
    "\n",
    "pops = pd.DataFrame({\n",
    "    'CIA':['53 CIA', '139 CIA', '142 CIA', '51 CIA'],\n",
    "    'POPULACAO':[69242,102919,129575,104360]\n",
    "})\n",
    "pops.to_sql('tbl_populacoes', 'sqlite:///gdo.db', index=False)"
   ]
  },
  {
   "cell_type": "code",
   "execution_count": 221,
   "metadata": {},
   "outputs": [
    {
     "data": {
      "text/plain": [
       "iinfo(min=0, max=4294967295, dtype=uint32)"
      ]
     },
     "execution_count": 221,
     "metadata": {},
     "output_type": "execute_result"
    }
   ],
   "source": [
    "np.iinfo('uint32')"
   ]
  }
 ],
 "metadata": {
  "kernelspec": {
   "display_name": "Python 3",
   "language": "python",
   "name": "python3"
  }
 },
 "nbformat": 4,
 "nbformat_minor": 2
}
