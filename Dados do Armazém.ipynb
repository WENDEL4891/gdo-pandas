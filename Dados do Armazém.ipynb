{
 "cells": [
  {
   "cell_type": "code",
   "execution_count": 14,
   "metadata": {},
   "outputs": [],
   "source": [
    "mes=4"
   ]
  },
  {
   "cell_type": "code",
   "execution_count": 41,
   "metadata": {
    "collapsed": true
   },
   "outputs": [
    {
     "name": "stdout",
     "output_type": "stream",
     "text": [
      "WARNING *** file size (265753) not 512 + multiple of sector size (512)\n",
      "WARNING *** OLE2 inconsistency: SSCS size is 0 but SSAT size is non-zero\n",
      "WARNING *** file size (37433) not 512 + multiple of sector size (512)\n",
      "WARNING *** OLE2 inconsistency: SSCS size is 0 but SSAT size is non-zero\n",
      "WARNING *** file size (671597) not 512 + multiple of sector size (512)\n",
      "WARNING *** OLE2 inconsistency: SSCS size is 0 but SSAT size is non-zero\n",
      "WARNING *** file size (289760) not 512 + multiple of sector size (512)\n",
      "WARNING *** OLE2 inconsistency: SSCS size is 0 but SSAT size is non-zero\n",
      "WARNING *** file size (289760) not 512 + multiple of sector size (512)\n",
      "WARNING *** OLE2 inconsistency: SSCS size is 0 but SSAT size is non-zero\n",
      "WARNING *** file size (289760) not 512 + multiple of sector size (512)\n",
      "WARNING *** OLE2 inconsistency: SSCS size is 0 but SSAT size is non-zero\n",
      "WARNING *** file size (231043) not 512 + multiple of sector size (512)\n",
      "WARNING *** OLE2 inconsistency: SSCS size is 0 but SSAT size is non-zero\n",
      "WARNING *** file size (231043) not 512 + multiple of sector size (512)\n",
      "WARNING *** OLE2 inconsistency: SSCS size is 0 but SSAT size is non-zero\n"
     ]
    }
   ],
   "source": [
    "%run -i funcs_armazem.py\n",
    "%matplotlib inline"
   ]
  },
  {
   "cell_type": "code",
   "execution_count": 53,
   "metadata": {},
   "outputs": [
    {
     "data": {
      "text/html": [
       "<div>\n",
       "<style scoped>\n",
       "    .dataframe tbody tr th:only-of-type {\n",
       "        vertical-align: middle;\n",
       "    }\n",
       "\n",
       "    .dataframe tbody tr th {\n",
       "        vertical-align: top;\n",
       "    }\n",
       "\n",
       "    .dataframe thead tr th {\n",
       "        text-align: left;\n",
       "    }\n",
       "\n",
       "    .dataframe thead tr:last-of-type th {\n",
       "        text-align: right;\n",
       "    }\n",
       "</style>\n",
       "<table border=\"1\" class=\"dataframe\">\n",
       "  <thead>\n",
       "    <tr>\n",
       "      <th></th>\n",
       "      <th colspan=\"5\" halign=\"left\">META TCV</th>\n",
       "      <th>POPULACOES</th>\n",
       "    </tr>\n",
       "    <tr>\n",
       "      <th></th>\n",
       "      <th>1</th>\n",
       "      <th>2</th>\n",
       "      <th>3</th>\n",
       "      <th>4</th>\n",
       "      <th>ACUM</th>\n",
       "      <th>POPULACAO</th>\n",
       "    </tr>\n",
       "    <tr>\n",
       "      <th>CIA</th>\n",
       "      <th></th>\n",
       "      <th></th>\n",
       "      <th></th>\n",
       "      <th></th>\n",
       "      <th></th>\n",
       "      <th></th>\n",
       "    </tr>\n",
       "  </thead>\n",
       "  <tbody>\n",
       "    <tr>\n",
       "      <td>139 CIA</td>\n",
       "      <td>33.25000</td>\n",
       "      <td>39.906250</td>\n",
       "      <td>41.812500</td>\n",
       "      <td>39.90625</td>\n",
       "      <td>154.87500</td>\n",
       "      <td>102919</td>\n",
       "    </tr>\n",
       "    <tr>\n",
       "      <td>142 CIA</td>\n",
       "      <td>57.93750</td>\n",
       "      <td>49.406250</td>\n",
       "      <td>65.562500</td>\n",
       "      <td>46.56250</td>\n",
       "      <td>219.46875</td>\n",
       "      <td>129575</td>\n",
       "    </tr>\n",
       "    <tr>\n",
       "      <td>51 CIA</td>\n",
       "      <td>31.34375</td>\n",
       "      <td>32.312500</td>\n",
       "      <td>30.406250</td>\n",
       "      <td>30.40625</td>\n",
       "      <td>124.46875</td>\n",
       "      <td>104360</td>\n",
       "    </tr>\n",
       "    <tr>\n",
       "      <td>53 CIA</td>\n",
       "      <td>31.34375</td>\n",
       "      <td>27.546875</td>\n",
       "      <td>19.953125</td>\n",
       "      <td>19.00000</td>\n",
       "      <td>97.84375</td>\n",
       "      <td>69242</td>\n",
       "    </tr>\n",
       "    <tr>\n",
       "      <td>TOTAL</td>\n",
       "      <td>153.87500</td>\n",
       "      <td>149.171875</td>\n",
       "      <td>157.734375</td>\n",
       "      <td>135.87500</td>\n",
       "      <td>596.65625</td>\n",
       "      <td>406096</td>\n",
       "    </tr>\n",
       "  </tbody>\n",
       "</table>\n",
       "</div>"
      ],
      "text/plain": [
       "          META TCV                                               POPULACOES\n",
       "                 1           2           3          4       ACUM  POPULACAO\n",
       "CIA                                                                        \n",
       "139 CIA   33.25000   39.906250   41.812500   39.90625  154.87500     102919\n",
       "142 CIA   57.93750   49.406250   65.562500   46.56250  219.46875     129575\n",
       "51 CIA    31.34375   32.312500   30.406250   30.40625  124.46875     104360\n",
       "53 CIA    31.34375   27.546875   19.953125   19.00000   97.84375      69242\n",
       "TOTAL    153.87500  149.171875  157.734375  135.87500  596.65625     406096"
      ]
     },
     "execution_count": 53,
     "metadata": {},
     "output_type": "execute_result"
    }
   ],
   "source": [
    "# metas = get_metas(mes=mes)\n",
    "# pop = get_populacao()\n",
    "# tcv = metas['TCV'].join(pop)\n",
    "tcv"
   ]
  },
  {
   "cell_type": "code",
   "execution_count": 250,
   "metadata": {},
   "outputs": [
    {
     "name": "stdout",
     "output_type": "stream",
     "text": [
      "<class 'pandas.core.frame.DataFrame'>\n",
      "RangeIndex: 540 entries, 0 to 539\n",
      "Data columns (total 4 columns):\n",
      "MES          540 non-null int64\n",
      "META         540 non-null float64\n",
      "CIA          540 non-null object\n",
      "INDICADOR    540 non-null object\n",
      "dtypes: float64(1), int64(1), object(2)\n",
      "memory usage: 17.0+ KB\n"
     ]
    }
   ],
   "source": [
    "metas = pd.read_sql_table('tbl_metas', 'sqlite:///gdo.db')\n",
    "metas.info()"
   ]
  },
  {
   "cell_type": "code",
   "execution_count": 195,
   "metadata": {},
   "outputs": [
    {
     "data": {
      "text/plain": [
       "84    0.964844\n",
       "85    0.000000\n",
       "86    0.964844\n",
       "87    0.964844\n",
       "88    0.964844\n",
       "89    0.000000\n",
       "90    0.000000\n",
       "91    0.000000\n",
       "92    0.000000\n",
       "93    0.000000\n",
       "94    0.964844\n",
       "95    0.000000\n",
       "Name: META, dtype: float16"
      ]
     },
     "execution_count": 195,
     "metadata": {},
     "output_type": "execute_result"
    }
   ],
   "source": [
    "metas[\n",
    "    ( metas['CIA'] == '53 CIA' )\n",
    "    & (metas['INDICADOR'] == 'THC')\n",
    "]['META']"
   ]
  },
  {
   "cell_type": "code",
   "execution_count": 215,
   "metadata": {},
   "outputs": [],
   "source": [
    "# metas = pd.read_csv('files/metas.csv', dtype={'META':'float16'}, decimal=',')\n",
    "# metas.to_sql('tbl_metas', 'sqlite:///gdo.db', index=False, if_exists='replace')"
   ]
  },
  {
   "cell_type": "code",
   "execution_count": 224,
   "metadata": {},
   "outputs": [],
   "source": [
    "# 53ª Cia PM\t69.242\n",
    "# 139ª Cia PM\t102.919\n",
    "# 142ª Cia PM\t129.575\n",
    "# 51ª Cia PM\t104.360\n",
    "\n",
    "pops = pd.DataFrame({\n",
    "    'CIA':['53 CIA', '139 CIA', '142 CIA', '51 CIA'],\n",
    "    'POPULACAO':[69242,102919,129575,104360]\n",
    "})\n",
    "pops.to_sql('tbl_populacoes', 'sqlite:///gdo.db', index=False)"
   ]
  },
  {
   "cell_type": "code",
   "execution_count": 221,
   "metadata": {},
   "outputs": [
    {
     "data": {
      "text/plain": [
       "iinfo(min=0, max=4294967295, dtype=uint32)"
      ]
     },
     "execution_count": 221,
     "metadata": {},
     "output_type": "execute_result"
    }
   ],
   "source": [
    "np.iinfo('uint32')"
   ]
  }
 ],
 "metadata": {
  "kernelspec": {
   "display_name": "Python 3",
   "language": "python",
   "name": "python3"
  },
  "language_info": {
   "codemirror_mode": {
    "name": "ipython",
    "version": 3
   },
   "file_extension": ".py",
   "mimetype": "text/x-python",
   "name": "python",
   "nbconvert_exporter": "python",
   "pygments_lexer": "ipython3",
   "version": "3.7.4"
  }
 },
 "nbformat": 4,
 "nbformat_minor": 2
}
