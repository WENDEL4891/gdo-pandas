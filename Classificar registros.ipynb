{
 "cells": [
  {
   "cell_type": "code",
   "execution_count": 1,
   "metadata": {},
   "outputs": [],
   "source": [
    "import pandas as pd\n",
    "import numpy as np\n",
    "import funcs, gc, sqlite3"
   ]
  },
  {
   "cell_type": "code",
   "execution_count": 2,
   "metadata": {},
   "outputs": [],
   "source": [
    "query = '''\n",
    "SELECT    \n",
    "    \"RAT.NUM_ATIVIDADE\",\n",
    "    \"MUNICIPIO\",\n",
    "    \"LOGRADOURO\",\n",
    "    \"DES_ENDERECO\",\n",
    "    \"COMPLEMENTO_ENDERECO\",\n",
    "    \"NOME_BAIRRO\",\n",
    "    \"LOGRADOURO2\",\n",
    "    \"DES_ENDERECO2\",\n",
    "    \"SETOR\"\n",
    "FROM\n",
    "    tbl_rat\n",
    "WHERE\n",
    "    \"SETOR\" == \"other\"\n",
    "AND \"MUNICIPIO\" != \"ITAUNA\"\n",
    "AND \"NAT.CODIGO\" IN ('Y07001', 'Y07003', 'Y07004', 'Y07005', 'Y04012')\n",
    "'''\n",
    "\n",
    "rats_unclassif = pd.read_sql(query, 'sqlite:///gdo.db')"
   ]
  },
  {
   "cell_type": "code",
   "execution_count": 3,
   "metadata": {},
   "outputs": [],
   "source": [
    "df_classif = funcs.get_df_classif()\n",
    "rats_unclassif.loc[:,'SETOR'] = rats_unclassif.apply(lambda row: funcs.classifica_setor(row, df_classif), axis=1)"
   ]
  },
  {
   "cell_type": "code",
   "execution_count": 4,
   "metadata": {},
   "outputs": [
    {
     "data": {
      "text/plain": [
       "{'2019-001822312-001': 'BOM PASTOR', '2019-010922203-001': 'NITEROI'}"
      ]
     },
     "execution_count": 4,
     "metadata": {},
     "output_type": "execute_result"
    }
   ],
   "source": [
    "new_classif_dict = {rats[0]:rats[-1] for rats in rats_unclassif.values}\n",
    "new_classif_dict"
   ]
  },
  {
   "cell_type": "code",
   "execution_count": 17,
   "metadata": {},
   "outputs": [],
   "source": [
    "query_update = '''\n",
    "UPDATE tbl_rat\n",
    "SET \"SETOR\" = ?\n",
    "WHERE \"RAT.NUM_ATIVIDADE\" = ?\n",
    "'''\n",
    "\n",
    "with sqlite3.connect('gdo.db') as conn:\n",
    "    cursor = conn.cursor()\n",
    "    for nrat, setor in new_classif_dict.items():\n",
    "        print((setor, nrat))\n",
    "        cursor.execute(query_update, (setor, nrat))\n",
    "        conn.commit()\n",
    "conn.close()"
   ]
  },
  {
   "cell_type": "code",
   "execution_count": 18,
   "metadata": {},
   "outputs": [],
   "source": [
    "rats = pd.read_sql_table('tbl_rat', 'sqlite:///gdo.db')"
   ]
  },
  {
   "cell_type": "code",
   "execution_count": 19,
   "metadata": {},
   "outputs": [
    {
     "data": {
      "text/html": [
       "<div>\n",
       "<style scoped>\n",
       "    .dataframe tbody tr th:only-of-type {\n",
       "        vertical-align: middle;\n",
       "    }\n",
       "\n",
       "    .dataframe tbody tr th {\n",
       "        vertical-align: top;\n",
       "    }\n",
       "\n",
       "    .dataframe thead th {\n",
       "        text-align: right;\n",
       "    }\n",
       "</style>\n",
       "<table border=\"1\" class=\"dataframe\">\n",
       "  <thead>\n",
       "    <tr style=\"text-align: right;\">\n",
       "      <th></th>\n",
       "      <th>RAT.NUM_ATIVIDADE</th>\n",
       "      <th>MUNICIPIO</th>\n",
       "      <th>LOGRADOURO</th>\n",
       "      <th>DES_ENDERECO</th>\n",
       "      <th>COMPLEMENTO_ENDERECO</th>\n",
       "      <th>NOME_BAIRRO</th>\n",
       "      <th>LOGRADOURO2</th>\n",
       "      <th>DES_ENDERECO2</th>\n",
       "      <th>SETOR</th>\n",
       "    </tr>\n",
       "  </thead>\n",
       "  <tbody>\n",
       "  </tbody>\n",
       "</table>\n",
       "</div>"
      ],
      "text/plain": [
       "Empty DataFrame\n",
       "Columns: [RAT.NUM_ATIVIDADE, MUNICIPIO, LOGRADOURO, DES_ENDERECO, COMPLEMENTO_ENDERECO, NOME_BAIRRO, LOGRADOURO2, DES_ENDERECO2, SETOR]\n",
       "Index: []"
      ]
     },
     "execution_count": 19,
     "metadata": {},
     "output_type": "execute_result"
    }
   ],
   "source": [
    "rats[\n",
    "    (rats['SETOR'] == 'other')\n",
    "    & (rats['NAT.CODIGO'].str.contains('Y0700[1345]'))\n",
    "    & (rats['MUNICIPIO'] != 'ITAUNA')\n",
    "][[\n",
    "    \"RAT.NUM_ATIVIDADE\",\n",
    "    \"MUNICIPIO\",\n",
    "    \"LOGRADOURO\",\n",
    "    \"DES_ENDERECO\",\n",
    "    \"COMPLEMENTO_ENDERECO\",\n",
    "    \"NOME_BAIRRO\",\n",
    "    \"LOGRADOURO2\",\n",
    "    \"DES_ENDERECO2\",\n",
    "    \"SETOR\"\n",
    "]]"
   ]
  }
 ],
 "metadata": {
  "kernelspec": {
   "display_name": "Python 3",
   "language": "python",
   "name": "python3"
  },
  "language_info": {
   "codemirror_mode": {
    "name": "ipython",
    "version": 3
   },
   "file_extension": ".py",
   "mimetype": "text/x-python",
   "name": "python",
   "nbconvert_exporter": "python",
   "pygments_lexer": "ipython3",
   "version": "3.7.4"
  }
 },
 "nbformat": 4,
 "nbformat_minor": 2
}
