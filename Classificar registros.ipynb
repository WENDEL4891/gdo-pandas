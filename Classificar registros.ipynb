{
 "cells": [
  {
   "cell_type": "code",
   "execution_count": 1,
   "metadata": {},
   "outputs": [],
   "source": [
    "import pandas as pd\n",
    "import numpy as np\n",
    "import funcs, gc, sqlite3"
   ]
  },
  {
   "cell_type": "code",
   "execution_count": null,
   "metadata": {},
   "outputs": [],
   "source": [
    "# bos ou rat\n",
    "tipo = 'bos'"
   ]
  },
  {
   "cell_type": "code",
   "execution_count": 3,
   "metadata": {},
   "outputs": [
    {
     "name": "stdout",
     "output_type": "stream",
     "text": [
      "alterou\n"
     ]
    },
    {
     "data": {
      "text/html": [
       "<div>\n",
       "<style scoped>\n",
       "    .dataframe tbody tr th:only-of-type {\n",
       "        vertical-align: middle;\n",
       "    }\n",
       "\n",
       "    .dataframe tbody tr th {\n",
       "        vertical-align: top;\n",
       "    }\n",
       "\n",
       "    .dataframe thead th {\n",
       "        text-align: right;\n",
       "    }\n",
       "</style>\n",
       "<table border=\"1\" class=\"dataframe\">\n",
       "  <thead>\n",
       "    <tr style=\"text-align: right;\">\n",
       "      <th></th>\n",
       "      <th>RAT.NUM_ATIVIDADE</th>\n",
       "      <th>MUNICIPIO</th>\n",
       "      <th>LOGRADOURO</th>\n",
       "      <th>DES_ENDERECO</th>\n",
       "      <th>COMPLEMENTO_ENDERECO</th>\n",
       "      <th>NOME_BAIRRO</th>\n",
       "      <th>LOGRADOURO2</th>\n",
       "      <th>DES_ENDERECO2</th>\n",
       "      <th>SETOR</th>\n",
       "      <th>CIA</th>\n",
       "    </tr>\n",
       "  </thead>\n",
       "  <tbody>\n",
       "    <tr>\n",
       "      <td>0</td>\n",
       "      <td>2020-014269725-001</td>\n",
       "      <td>DIVINOPOLIS</td>\n",
       "      <td>PERNAMBUCO</td>\n",
       "      <td>PERNAMBUCO</td>\n",
       "      <td></td>\n",
       "      <td></td>\n",
       "      <td></td>\n",
       "      <td></td>\n",
       "      <td>other</td>\n",
       "      <td>other</td>\n",
       "    </tr>\n",
       "  </tbody>\n",
       "</table>\n",
       "</div>"
      ],
      "text/plain": [
       "    RAT.NUM_ATIVIDADE    MUNICIPIO  LOGRADOURO DES_ENDERECO  \\\n",
       "0  2020-014269725-001  DIVINOPOLIS  PERNAMBUCO   PERNAMBUCO   \n",
       "\n",
       "  COMPLEMENTO_ENDERECO NOME_BAIRRO LOGRADOURO2 DES_ENDERECO2  SETOR    CIA  \n",
       "0                                                             other  other  "
      ]
     },
     "execution_count": 3,
     "metadata": {},
     "output_type": "execute_result"
    }
   ],
   "source": [
    "unclassif = funcs.get_unclassified_registers(tipo=tipo)\n",
    "unclassif"
   ]
  },
  {
   "cell_type": "code",
   "execution_count": 6,
   "metadata": {},
   "outputs": [
    {
     "data": {
      "text/html": [
       "<div>\n",
       "<style scoped>\n",
       "    .dataframe tbody tr th:only-of-type {\n",
       "        vertical-align: middle;\n",
       "    }\n",
       "\n",
       "    .dataframe tbody tr th {\n",
       "        vertical-align: top;\n",
       "    }\n",
       "\n",
       "    .dataframe thead th {\n",
       "        text-align: right;\n",
       "    }\n",
       "</style>\n",
       "<table border=\"1\" class=\"dataframe\">\n",
       "  <thead>\n",
       "    <tr style=\"text-align: right;\">\n",
       "      <th></th>\n",
       "      <th>RAT.NUM_ATIVIDADE</th>\n",
       "      <th>MUNICIPIO</th>\n",
       "      <th>LOGRADOURO</th>\n",
       "      <th>DES_ENDERECO</th>\n",
       "      <th>COMPLEMENTO_ENDERECO</th>\n",
       "      <th>NOME_BAIRRO</th>\n",
       "      <th>LOGRADOURO2</th>\n",
       "      <th>DES_ENDERECO2</th>\n",
       "      <th>SETOR</th>\n",
       "      <th>CIA</th>\n",
       "    </tr>\n",
       "  </thead>\n",
       "  <tbody>\n",
       "    <tr>\n",
       "      <td>0</td>\n",
       "      <td>2020-014269725-001</td>\n",
       "      <td>DIVINOPOLIS</td>\n",
       "      <td>PERNAMBUCO</td>\n",
       "      <td>PERNAMBUCO</td>\n",
       "      <td></td>\n",
       "      <td></td>\n",
       "      <td></td>\n",
       "      <td></td>\n",
       "      <td>PLANALTO</td>\n",
       "      <td>139 CIA</td>\n",
       "    </tr>\n",
       "  </tbody>\n",
       "</table>\n",
       "</div>"
      ],
      "text/plain": [
       "    RAT.NUM_ATIVIDADE    MUNICIPIO  LOGRADOURO DES_ENDERECO  \\\n",
       "0  2020-014269725-001  DIVINOPOLIS  PERNAMBUCO   PERNAMBUCO   \n",
       "\n",
       "  COMPLEMENTO_ENDERECO NOME_BAIRRO LOGRADOURO2 DES_ENDERECO2     SETOR  \\\n",
       "0                                                             PLANALTO   \n",
       "\n",
       "       CIA  \n",
       "0  139 CIA  "
      ]
     },
     "execution_count": 6,
     "metadata": {},
     "output_type": "execute_result"
    }
   ],
   "source": [
    "classificadores = funcs.get_df_classif()\n",
    "unclassif.loc[:,'SETOR'] = unclassif.apply(lambda row: funcs.classifica_setor(row, classificadores), axis=1)\n",
    "funcs.classifica_cia(unclassif)\n",
    "\n",
    "unclassif"
   ]
  },
  {
   "cell_type": "code",
   "execution_count": 7,
   "metadata": {},
   "outputs": [
    {
     "data": {
      "text/plain": [
       "[{'nrat': '2020-014269725-001', 'setor': 'PLANALTO', 'cia': '139 CIA'}]"
      ]
     },
     "execution_count": 7,
     "metadata": {},
     "output_type": "execute_result"
    }
   ],
   "source": [
    "new_classif_dict = [\n",
    "    {\n",
    "        'nrat': unclass_list[0],\n",
    "        'setor': unclass_list[-2],\n",
    "        'cia': unclass_list[-1]\n",
    "    }\n",
    "    for unclass_list in unclassif.values\n",
    "]\n",
    "\n",
    "new_classif_dict"
   ]
  },
  {
   "cell_type": "code",
   "execution_count": 8,
   "metadata": {},
   "outputs": [],
   "source": [
    "query_update = '''\n",
    "UPDATE tbl_{}\n",
    "    SET \"SETOR\" = ?,\n",
    "    \"CIA\" == ?\n",
    "WHERE\n",
    "    \"RAT.NUM_ATIVIDADE\" = ?\n",
    "'''.format(tipo)\n",
    "\n",
    "with sqlite3.connect('gdo.db') as conn:\n",
    "    cursor = conn.cursor()\n",
    "    for dict_class in new_classif_dict:\n",
    "        cursor.execute(query_update, (dict_class['setor'], dict_class['cia'], dict_class['nrat']))\n",
    "        conn.commit()\n",
    "conn.close()"
   ]
  }
 ],
 "metadata": {
  "kernelspec": {
   "display_name": "Python 3",
   "language": "python",
   "name": "python3"
  },
  "language_info": {
   "codemirror_mode": {
    "name": "ipython",
    "version": 3
   },
   "file_extension": ".py",
   "mimetype": "text/x-python",
   "name": "python",
   "nbconvert_exporter": "python",
   "pygments_lexer": "ipython3",
   "version": "3.7.4"
  }
 },
 "nbformat": 4,
 "nbformat_minor": 2
}
