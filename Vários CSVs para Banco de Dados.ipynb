{
 "cells": [
  {
   "cell_type": "code",
   "execution_count": 1,
   "metadata": {},
   "outputs": [],
   "source": [
    "import pandas as pd\n",
    "import numpy as np\n",
    "import shutil, os, re, sqlite3"
   ]
  },
  {
   "cell_type": "markdown",
   "metadata": {},
   "source": [
    "<h2 style='color:#00A'>O código adiante obtém os arquivos csv, por tipo (rat, rat_evetivo, rat_viatura e rat_produtividade) e os ordena por data</h2>"
   ]
  },
  {
   "cell_type": "code",
   "execution_count": 2,
   "metadata": {},
   "outputs": [],
   "source": [
    "# dir = os.getcwd()\n",
    "# rats_files_names = os.listdir(dir+'/files/RAT')\n",
    "# rat_pattern = re.compile('REDS_RAT_2')\n",
    "# rat_viatura_pattern = re.compile('RAT_VIATURA')\n",
    "# rat_efetivo_pattern = re.compile('RAT_EFETIVO')\n",
    "# rat_produtividade_pattern = re.compile('RAT_Produtividade')\n",
    "\n",
    "# rats_files = list()\n",
    "# rats_viatura_files = list()\n",
    "# rats_efetivo_files = list()\n",
    "# rats_produtividade_files = list()\n",
    "\n",
    "# for file_name in rats_files_names:\n",
    "#     is_rat = rat_pattern.search(file_name) != None\n",
    "#     is_rat_viatura = rat_viatura_pattern.search(file_name) != None\n",
    "#     is_rat_efetivo = rat_efetivo_pattern.search(file_name) != None\n",
    "#     is_rat_produtividade = rat_produtividade_pattern.search(file_name) != None\n",
    "#     if is_rat:\n",
    "#         rats_files.append(file_name)\n",
    "#     elif is_rat_viatura:\n",
    "#         rats_viatura_files.append(file_name)\n",
    "#     elif is_rat_efetivo:\n",
    "#         rats_efetivo_files.append(file_name)\n",
    "#     elif is_rat_produtividade:\n",
    "#         rats_produtividade_files.append(file_name)\n",
    "        \n",
    "# rats_files.sort(key=lambda name: int(name[9:17]))\n",
    "# rats_viatura_files.sort(key=lambda name: int(name[18:26]))\n",
    "# rats_efetivo_files.sort(key=lambda name: int(name[18:26]))\n",
    "# rats_produtividade_files.sort(key=lambda name: int(name[23:31]))"
   ]
  },
  {
   "cell_type": "markdown",
   "metadata": {},
   "source": [
    "<h2 style=\"color:#0A0;margin:10px \">Importação, para o Banco de Dados, de todos os arquivos tipo RAT</h2>\n",
    "<h3 style=\"color:#00A; margin:10px\">Importa somente os dados do 23º BPM</h3>\n",
    "\n",
    "<ol style=\"color:#222\">\n",
    "    <li>Lê o primeiro arquivo da lista e o passa para um DataFrame (df1)</li>\n",
    "    <li>Lê o segundo arquivo da lista e o passa para outro DataFrame (df2)</li>\n",
    "    <li>Concatena os dois DataFrames em um terceiro (df_acum)</li>\n",
    "    <li>Itera sobre os demais arquivos, lendo cada um deles, aplicando strip(), a função de filtro do 23º BPM e depois o adiciona ao DataFrame df_acum</li>\n",
    "    <li>Retira as duplicatas, pelo campo 'RAT.NUM_ATIVIDADE'</li>\n",
    "    <li>Adiciona colunas data/hora início e término, tempo em datetime e tempo em inteiro </li>\n",
    "    <li>Aplica .upper() nas colunas usadas para classificação.</li>\n",
    "    <li>Classifica por Setores</li>\n",
    "    <li>Classifica por Cias</li>\n",
    "    <li>Insere os dados de df_acum no banco de dados gdo.db: (tabela tbl_rat)</li>\n",
    "\n",
    "</ol>"
   ]
  },
  {
   "cell_type": "code",
   "execution_count": 18,
   "metadata": {},
   "outputs": [],
   "source": [
    "df_classif['SETOR'] = df_classif['SETOR'].str.replace('SANTANENSE MORADA NOVA', 'SANTANENSE/MORADA NOVA')"
   ]
  },
  {
   "cell_type": "code",
   "execution_count": 23,
   "metadata": {},
   "outputs": [
    {
     "name": "stderr",
     "output_type": "stream",
     "text": [
      "/home/seo23bpm/.asdf/installs/python/anaconda3-2019.10/lib/python3.7/site-packages/pandas/core/generic.py:2712: UserWarning: the 'timedelta' type is not supported, and will be written as integer values (ns frequency) to the database.\n",
      "  method=method,\n"
     ]
    }
   ],
   "source": [
    "# df_classif = pd.read_csv('files/classificadores.csv')\n",
    "# df_classif = df_classif.apply(lambda col:col.str.upper())\n",
    "# df_classif.set_index( df_classif['MUNICIPIO'] + \" \" + df_classif['VALIDADOR_TIPO'] + \" \" + df_classif['VALIDADOR'], inplace=True)\n",
    "# df_classif['SETOR'] = df_classif['SETOR'].str.replace('LOURDES ITATIAIUCU', 'LOURDES/ITATIAIUCU')\n",
    "# df_classif['SETOR'] = df_classif['SETOR'].str.replace('CENTRO PADRE EUSTAQUIO', 'CENTRO/PADRE EUSTAQUIO')\n",
    "# df_classif['SETOR'] = df_classif['SETOR'].str.replace('SANTANENSE MORADA NOVA', 'SANTANENSE/MORADA NOVA')\n",
    "# df_classif = df_classif.reset_index().drop_duplicates('index').set_index('index')\n",
    "\n",
    "\n",
    "# def filter_23(df):\n",
    "#     return df[\n",
    "#         df['MUNICIPIO'].isin([\n",
    "#             'DIVINOPOLIS',\n",
    "#             'ITAUNA',\n",
    "#             'ITATIAIUCU',\n",
    "#             'CARMO DO CAJURU',\n",
    "#             'SAO GONCALO DO PARA',\n",
    "#             'CLAUDIO'\n",
    "#         ])\n",
    "#     ]\n",
    "\n",
    "\n",
    "# df1 = pd.read_csv('files/RAT/' + rats_files[0], error_bad_lines=False, sep='|')\n",
    "# df1 = df1.applymap(lambda x: x.strip() if type(x) == str else x)\n",
    "# df1 = filter_23(df1)\n",
    "\n",
    "# df2 = pd.read_csv('files/RAT/' + rats_files[1], error_bad_lines=False, sep='|')\n",
    "# df2 = df2.applymap(lambda x: x.strip() if type(x) == str else x)\n",
    "# df2 = filter_23(df2)\n",
    "\n",
    "# df_acum = pd.concat([df1, df2])\n",
    "\n",
    "# for rat_file in rats_files[2:]:\n",
    "#     df_aux = pd.read_csv('files/RAT/' + rat_file, error_bad_lines=False, sep='|')\n",
    "#     df_aux = df_aux.applymap(lambda x: x.strip() if type(x) == str else x)\n",
    "#     df_aux = filter_23(df_aux)\n",
    "#     df_acum = pd.concat([df_acum, df_aux])\n",
    "\n",
    "# df_acum.drop_duplicates(subset='RAT.NUM_ATIVIDADE', keep='last', inplace=True)\n",
    "\n",
    "# df_acum.loc[:,'DTA_HRA_INICIO'] = df_acum['DTA_INICIO'] + \" \" + df_acum['HRA_INICIO']\n",
    "# df_acum.loc[:,'DTA_HRA_INICIO_DT'] = pd.to_datetime( df_acum['DTA_HRA_INICIO'], format='%d/%m/%Y %H:%M', errors='coerce')\n",
    "\n",
    "# df_acum.loc[:,'DTA_HRA_TERMINO'] = df_acum.loc[:,'DTA_TERMINO'] + \" \" + df_acum.loc[:,'HRA_TERMINO']\n",
    "# df_acum.loc[:,'DTA_HRA_TERMINO_DT'] = pd.to_datetime( df_acum.loc[:,'DTA_HRA_TERMINO'], format='%d/%m/%Y %H:%M', errors='coerce')\n",
    "\n",
    "# df_acum.loc[:,'MES'] = df_acum.loc[:,'DTA_HRA_INICIO_DT'].dt.month\n",
    "# df_acum.loc[:,'ANO'] = df_acum.loc[:,'DTA_HRA_INICIO_DT'].dt.year\n",
    "\n",
    "# df_acum.loc[:,'TEMPO_DT'] = df_acum['DTA_HRA_TERMINO_DT'] - df_acum['DTA_HRA_INICIO_DT']\n",
    "\n",
    "# df_acum.loc[:,'TEMPO_INT'] = df_acum['TEMPO_DT'].dt.total_seconds() / 60\n",
    "\n",
    "# cols_classif = [\n",
    "#     'MUNICIPIO',\n",
    "#     'LOGRADOURO',\n",
    "#     'DES_ENDERECO',\n",
    "#     'COMPLEMENTO_ENDERECO',\n",
    "#     'NOME_BAIRRO',\n",
    "#     'LOGRADOURO2',\n",
    "#     'DES_ENDERECO2'\n",
    "# ]\n",
    "# df_acum[cols_classif] = df_acum[cols_classif].apply(lambda col: col.str.upper())\n",
    "\n",
    "\n",
    "# def classifica_setor(row):\n",
    "#     mun = row['MUNICIPIO']\n",
    "#     if mun == 'CLAUDIO':        \n",
    "#         return 'CLAUDIO'\n",
    "#     elif mun == 'ITATIAIUCU':\n",
    "#         return 'LOURDES/ITATIAIUCU'\n",
    "#     elif mun in ('CARMO DO CAJURU', 'SAO GONCALO DO PARA'):             \n",
    "#         return 'CARMO DO CAJURU/SAO GONCALO DO PARA'    \n",
    "#     elif ( mun + \" N_RAT \" + row['RAT.NUM_ATIVIDADE'] ) in df_classif.index:\n",
    "#         return df_classif.loc[mun+\" N_RAT \"+row['RAT.NUM_ATIVIDADE'], 'SETOR']\n",
    "#     elif mun + ' BAIRRO ' + row['NOME_BAIRRO'] in df_classif.index:       \n",
    "#         return ( df_classif.loc[mun + ' BAIRRO ' + row['NOME_BAIRRO'].upper(), 'SETOR'] ).upper()\n",
    "#     elif mun + ' LOGRADOURO ' + row['LOGRADOURO'] in df_classif.index:\n",
    "#         return df_classif.loc[mun + ' LOGRADOURO ' + row['LOGRADOURO'].upper(), 'SETOR']\n",
    "#     elif mun + ' LOGRADOURO ' + row['DES_ENDERECO'] in df_classif.index:\n",
    "#         return df_classif.loc[mun + ' LOGRADOURO ' + row['DES_ENDERECO'].upper(), 'SETOR']\n",
    "#     elif mun + ' LOGRADOURO_NAO_CAD ' + row['LOGRADOURO2'] in df_classif.index:\n",
    "#         return df_classif.loc[mun + ' LOGRADOURO_NAO_CAD ' + row['LOGRADOURO2'].upper(), 'SETOR']\n",
    "#     elif mun + ' LOGRADOURO_NAO_CAD ' + row['DES_ENDERECO'] in df_classif.index:\n",
    "#         return df_classif.loc[mun + ' LOGRADOURO_NAO_CAD ' + row['DES_ENDERECO'].upper(), 'SETOR']\n",
    "#     elif mun + ' LOGRADOURO_NAO_CAD ' + row['LOGRADOURO2'] in df_classif.index:\n",
    "#         return df_classif.loc[mun + ' LOGRADOURO_NAO_CAD ' + row['LOGRADOURO2'].upper(), 'SETOR']\n",
    "#     elif mun + ' LOGRADOURO_NAO_CAD ' + row['DES_ENDERECO2'] in df_classif.index:\n",
    "#         return df_classif.loc[mun + ' LOGRADOURO_NAO_CAD ' + row['DES_ENDERECO2'].upper(), 'SETOR']\n",
    "#     elif mun + ' COMPLEMENTO_END ' + row['COMPLEMENTO_ENDERECO'] in df_classif.index:\n",
    "#         return df_classif.loc[mun + ' COMPLEMENTO_END ' + row['COMPLEMENTO_ENDERECO'].upper(), 'SETOR']\n",
    "#     elif ( mun + ' COMPLEMENTO_END ' + row['DES_ENDERECO'] ) in df_classif.index:\n",
    "#         return df_classif.loc[mun + ' COMPLEMENTO_END ' + row['DES_ENDERECO'], 'SETOR']    \n",
    "#     else:\n",
    "#         return 'other'\n",
    "\n",
    "# df_acum['SETOR'] = df_acum.apply(lambda row: classifica_setor(row), axis=1)\n",
    "\n",
    "# conds=[\n",
    "#     df_acum['SETOR'].isin(['CENTRO/PADRE EUSTAQUIO','SANTANENSE/MORADA NOVA','LOURDES/ITATIAIUCU']),\n",
    "#     df_acum['SETOR'].isin(['CENTRO','BOM PASTOR','ALTO GOIAS']),\n",
    "#     df_acum['SETOR'].isin(['PLANALTO','SAO JOSE','CLAUDIO']),\n",
    "#     df_acum['SETOR'].isin(['NITEROI','PORTO VELHO','CARMO DO CAJURU/SAO GONCALO DO PARA']),\n",
    "    \n",
    "# ]\n",
    "# res=['51 CIA','53 CIA','139 CIA','142 CIA']\n",
    "# df_acum['CIA'] = np.select(conds,res,default='other')\n",
    "\n",
    "# df_acum.to_sql('tbl_rat', 'sqlite:///gdo.db', if_exists='replace')"
   ]
  },
  {
   "cell_type": "markdown",
   "metadata": {},
   "source": [
    "<h2>Naturezas RQV e Lei seca</h2>"
   ]
  },
  {
   "cell_type": "code",
   "execution_count": 24,
   "metadata": {},
   "outputs": [
    {
     "data": {
      "text/plain": [
       "Y07001    18783\n",
       "Y07003     1141\n",
       "Y04012      535\n",
       "Y07004      126\n",
       "Y07005       21\n",
       "Name: NAT.CODIGO, dtype: int64"
      ]
     },
     "execution_count": 24,
     "metadata": {},
     "output_type": "execute_result"
    }
   ],
   "source": [
    "df_acum[    \n",
    "    (df_acum['NAT.CODIGO'].str.contains('Y0700[1345]')) |\n",
    "    (df_acum['NAT.CODIGO'] == 'Y04012')    \n",
    "]['NAT.CODIGO'].value_counts()"
   ]
  },
  {
   "cell_type": "markdown",
   "metadata": {},
   "source": [
    "<h2 style=\"color:blue;margin:10px \">Importação, para o Banco de Dados, de todos os arquivos tipo RAT_VEÍCULOS</h2>\n",
    "<h3 style=\"color:red; margin:10px\">Importa somente os dados do 23º BPM</h3>\n",
    "\n",
    "### 1) Fazer descrição"
   ]
  },
  {
   "cell_type": "code",
   "execution_count": 14,
   "metadata": {
    "scrolled": false
   },
   "outputs": [],
   "source": [
    "# df_rat = pd.read_sql_table('tbl_rat', 'sqlite:///gdo.db')\n",
    "# df_rat.set_index('RAT.NUM_ATIVIDADE', inplace=True)\n",
    "\n",
    "# df_acum = pd.read_sql_table('tbl_rat', 'sqlite:///gdo.db')\n",
    "# df_acum.set_index('RAT.NUM_ATIVIDADE', inplace=True)\n",
    "\n",
    "# dfv1 = pd.read_csv('files/RAT/' + rats_viatura_files[0], error_bad_lines=False, sep='|')\n",
    "# dfv1 = dfv1.applymap(lambda x: x.strip() if type(x) == str else x)\n",
    "# dfv1 = dfv1[dfv1['NUM_ATIVIDADE'].isin(df_rat['RAT.NUM_ATIVIDADE'])]\n",
    "\n",
    "# dfv2 = pd.read_csv('files/RAT/' + rats_viatura_files[1], error_bad_lines=False, sep='|')\n",
    "# dfv2 = dfv2.applymap(lambda x: x.strip() if type(x) == str else x)\n",
    "# dfv2 = dfv2[dfv2['NUM_ATIVIDADE'].isin(df_rat['RAT.NUM_ATIVIDADE'])]\n",
    "\n",
    "# dfv_acum = pd.concat([dfv1, dfv2])\n",
    "\n",
    "\n",
    "# for rat_viatura_file in rats_viatura_files[2:]:\n",
    "#     dfv_aux = pd.read_csv('files/RAT/'+rat_viatura_file, sep='|')\n",
    "#     dfv_aux = dfv_aux.applymap(lambda col: col.strip() if type(col) == str else col)\n",
    "#     dfv_aux = dfv_aux[dfv_aux['NUM_ATIVIDADE'].isin(df_rat['RAT.NUM_ATIVIDADE'])]\n",
    "#     dfv_acum = pd.concat([dfv_acum, dfv_aux])\n",
    "    \n",
    "# dfv_acum.to_sql('tbl_rat_veiculo', 'sqlite:///gdo.db', if_exists='replace')\n",
    "\n",
    "# df_ratv = pd.read_sql_table('tbl_rat_veiculo', 'sqlite:///gdo.db')\n",
    "# df_ratv_unique = df_ratv['NUM_ATIVIDADE'].value_counts()\n",
    "# df_ratv_unique.rename('VEICULOS', inplace=True)\n",
    "# df_rat_e_v = df_rat.join(df_ratv_unique, how='left')\n",
    "# df_rat_e_v['VEICULOS'].fillna(0, inplace=True)\n",
    "\n",
    "# df_rat_e_v.groupby('NOM_UNIDADE_AREA').count()"
   ]
  }
 ],
 "metadata": {
  "celltoolbar": "Raw Cell Format",
  "kernelspec": {
   "display_name": "Python 3",
   "language": "python",
   "name": "python3"
  },
  "language_info": {
   "codemirror_mode": {
    "name": "ipython",
    "version": 3
   },
   "file_extension": ".py",
   "mimetype": "text/x-python",
   "name": "python",
   "nbconvert_exporter": "python",
   "pygments_lexer": "ipython3",
   "version": "3.7.4"
  }
 },
 "nbformat": 4,
 "nbformat_minor": 2
}
