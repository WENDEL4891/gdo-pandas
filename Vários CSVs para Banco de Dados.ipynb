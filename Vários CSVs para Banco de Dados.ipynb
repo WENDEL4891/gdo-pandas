{
 "cells": [
  {
   "cell_type": "code",
   "execution_count": 7,
   "metadata": {},
   "outputs": [],
   "source": [
    "import pandas as pd\n",
    "import numpy as np\n",
    "import os, re"
   ]
  },
  {
   "cell_type": "markdown",
   "metadata": {},
   "source": [
    "<h2 style='color:#00A'>O código adiante obtém os arquivos csv, por tipo (rat, rat_evetivo, rat_viatura e rat_produtividade) e os ordena por data</h2>"
   ]
  },
  {
   "cell_type": "code",
   "execution_count": 5,
   "metadata": {},
   "outputs": [],
   "source": [
    "import funcs\n",
    "import itertools\n",
    "\n",
    "files_names = funcs.get_files_names(only_not_imported=False)"
   ]
  },
  {
   "cell_type": "markdown",
   "metadata": {},
   "source": [
    "<h2 style=\"color:#0A0;margin:10px \">Importação, para o Banco de Dados, de todos os arquivos tipo RAT</h2>\n",
    "<h3 style=\"color:#00A; margin:10px\">Importa somente os dados do 23º BPM</h3>\n",
    "\n",
    "<ol style=\"color:#222\">\n",
    "    <li>Lê o primeiro arquivo da lista e o passa para um DataFrame (df1)</li>\n",
    "    <li>Lê o segundo arquivo da lista e o passa para outro DataFrame (df2)</li>\n",
    "    <li>Concatena os dois DataFrames em um terceiro (df_acum)</li>\n",
    "    <li>Itera sobre os demais arquivos, lendo cada um deles, aplicando strip(), a função de filtro do 23º BPM e depois o adiciona ao DataFrame df_acum</li>\n",
    "    <li>Retira as duplicatas, pelo campo 'RAT.NUM_ATIVIDADE'</li>\n",
    "    <li>Adiciona colunas data/hora início e término, tempo em datetime e tempo em inteiro </li>\n",
    "    <li>Aplica .upper() nas colunas usadas para classificação.</li>\n",
    "    <li>Classifica por Setores</li>\n",
    "    <li>Classifica por Cias</li>\n",
    "    <li>Insere os dados de df_acum no banco de dados gdo.db: (tabela tbl_rat)</li>\n",
    "\n",
    "</ol>"
   ]
  },
  {
   "cell_type": "code",
   "execution_count": 11,
   "metadata": {
    "scrolled": true
   },
   "outputs": [
    {
     "name": "stdout",
     "output_type": "stream",
     "text": [
      "files ok\n",
      "nomes dos arquivos importados, já inseridos no db\n"
     ]
    }
   ],
   "source": [
    "# %%time\n",
    "# import pandas as pd\n",
    "# import funcs\n",
    "\n",
    "# files_names = funcs.get_files_names(only_not_imported=False)\n",
    "# print('files ok')\n",
    "\n",
    "# df_rat = funcs.read_files(files_names['rat'])\n",
    "# print('files lidos ok')\n",
    "\n",
    "# df_rat = funcs.data_rat_processing(df_rat)\n",
    "# print('processing df ok')\n",
    "\n",
    "# df_rat['SETOR'] = df_rat.apply(lambda row: funcs.classifica_setor(row), axis=1)\n",
    "# print('classificação setores ok')\n",
    "\n",
    "# funcs.classifica_cia(df_rat)\n",
    "# print('classificação cias ok')\n",
    "\n",
    "\n",
    "# df_rat.to_sql('tbl_rat', 'sqlite:///gdo.db', if_exists='replace', index=False)\n",
    "# print('dados exportados para o db ok')\n",
    "\n",
    "pd.DataFrame(files_names['rat']).to_sql('tbl_imported_files', 'sqlite:///gdo.db', if_exists='replace')\n",
    "print('nomes dos arquivos importados, já inseridos no db')"
   ]
  },
  {
   "cell_type": "markdown",
   "metadata": {},
   "source": [
    "<h2 style=\"color:#0A0;margin:10px \">Importação, para o Banco de Dados, de todos os arquivos tipo RAT_VEICULOS, RAT_VIATURA e RAT_PRODUTIVIDADE</h2>\n",
    "<h3 style=\"color:#00A; margin:10px\">Importa somente os dados do 23º BPM</h3>\n",
    "\n",
    "<ol style=\"color:#222\">\n",
    "    <li>Importa do Banco de Dados, a tabela rat, para o df_rat, atribuindo RAT.NUM_ATIVIDADE para o index</li>\n",
    "    <li>Lê o primeiro arquivo da lista e o passa para um DataFrame (dfv1, dfe1, dfp1)</li>\n",
    "    <li>Lê o segundo arquivo da lista e o passa para outro DataFrame (dfv2, dfe2, dfp2)</li>\n",
    "    <li>Concatena os dois DataFrames em um terceiro (df_acum)</li>\n",
    "    <li>Itera sobre os demais arquivos, lendo cada um deles, aplicando strip(), a função de filtro do 23º BPM e depois o adiciona ao DataFrame df_acum</li>    \n",
    "    <li>Insere os dados no banco de dados</li>        \n",
    "</ol>    "
   ]
  },
  {
   "cell_type": "code",
   "execution_count": 12,
   "metadata": {},
   "outputs": [],
   "source": [
    "# %%time\n",
    "# import pandas as pd\n",
    "# import funcs\n",
    "\n",
    "# df_rat = pd.read_sql_table('tbl_rat', 'sqlite:///gdo.db')\n",
    "# df_rat.set_index('RAT.NUM_ATIVIDADE', inplace=True)\n",
    "\n",
    "# df_ratv = funcs.read_files(files_names['ratv'], df_rat=df_rat,rat_data=False)\n",
    "# print('df_ratv criado')\n",
    "# df_rate = funcs.read_files(files_names['rate'], df_rat=df_rat,rat_data=False)\n",
    "# print('df_rate criado')\n",
    "# df_ratp = funcs.read_files(files_names['ratp'], df_rat=df_rat,rat_data=False)\n",
    "# print('df_ratp criado')\n",
    "\n",
    "# df_ratv.to_sql('tbl_rat_veiculo', 'sqlite:///gdo.db', if_exists='replace', index=False)\n",
    "# pd.DataFrame(files_names['ratv']).to_sql('tbl_imported_files', 'sqlite:///gdo.db', if_exists='append')\n",
    "# print('df_ratv exportado para o db')\n",
    "\n",
    "# df_rate.to_sql('tbl_rat_efetivo', 'sqlite:///gdo.db', if_exists='replace', index=False)\n",
    "# pd.DataFrame(files_names['rate']).to_sql('tbl_imported_files', 'sqlite:///gdo.db', if_exists='append')\n",
    "# print('df_rate exportado para o db')\n",
    "\n",
    "# df_ratp.to_sql('tbl_rat_produtividade', 'sqlite:///gdo.db', if_exists='replace', index=False)\n",
    "# pd.DataFrame(files_names['ratp']).to_sql('tbl_imported_files', 'sqlite:///gdo.db', if_exists='append')\n",
    "# print('df_ratp exportado para o db')"
   ]
  },
  {
   "cell_type": "code",
   "execution_count": 12,
   "metadata": {},
   "outputs": [],
   "source": [
    "# df_rat = pd.read_sql_table('tbl_rat', 'sqlite:///gdo.db')\n",
    "# df_rat.set_index('RAT.NUM_ATIVIDADE', inplace=True)\n",
    "\n",
    "# dfe1 = pd.read_csv('files/RAT/' + files_names['rate'][0], error_bad_lines=False, sep='|')\n",
    "# dfe1 = dfe1.applymap(lambda x: x.strip() if type(x) == str else x)\n",
    "# dfe1 = dfe1[dfe1['NUM_ATIVIDADE'].isin(df_rat.index)]\n",
    "\n",
    "# dfe2 = pd.read_csv('files/RAT/' + files_names['rate'][1], error_bad_lines=False, sep='|')\n",
    "# dfe2 = dfe2.applymap(lambda x: x.strip() if type(x) == str else x)\n",
    "# dfe2 = dfe2[dfe2['NUM_ATIVIDADE'].isin(df_rat.index)]\n",
    "\n",
    "# dfe_acum = pd.concat([dfe1, dfe2])\n",
    "\n",
    "\n",
    "# for rat_efetivo_file in files_names['rate'][2:]:\n",
    "#     dfe_aux = pd.read_csv('files/RAT/'+rat_efetivo_file, sep='|')\n",
    "#     dfe_aux = dfe_aux.applymap(lambda col: col.strip() if type(col) == str else col)\n",
    "#     dfe_aux = dfe_aux[dfe_aux['NUM_ATIVIDADE'].isin(df_rat.index)]\n",
    "#     dfe_acum = pd.concat([dfe_acum, dfe_aux])\n",
    "    \n",
    "# dfe_acum.to_sql('tbl_rat_efetivo', 'sqlite:///gdo.db', if_exists='replace', index=False)\n",
    "# del dfe_acum\n",
    "# del df_rat"
   ]
  },
  {
   "cell_type": "code",
   "execution_count": 13,
   "metadata": {},
   "outputs": [],
   "source": [
    "# df_rat = pd.read_sql_table('tbl_rat', 'sqlite:///gdo.db')\n",
    "# df_rat.set_index('RAT.NUM_ATIVIDADE', inplace=True)\n",
    "\n",
    "# dfp1 = pd.read_csv('files/RAT/' + files_names['ratp'][0], error_bad_lines=False, sep='|')\n",
    "# dfp1 = dfp1.applymap(lambda x: x.strip() if type(x) == str else x)\n",
    "# dfp1 = dfp1[dfp1['RAT.NUM_ATIVIDADE'].isin(df_rat.index)]\n",
    "\n",
    "# dfp2 = pd.read_csv('files/RAT/' + files_names['ratp'][1], error_bad_lines=False, sep='|')\n",
    "# dfp2 = dfp2.applymap(lambda x: x.strip() if type(x) == str else x)\n",
    "# dfp2 = dfp2[dfp2['RAT.NUM_ATIVIDADE'].isin(df_rat.index)]\n",
    "\n",
    "# dfp_acum = pd.concat([dfp1, dfp2])\n",
    "\n",
    "\n",
    "# for rat_produtividade_file in files_names['ratp'][2:]:\n",
    "#     dfp_aux = pd.read_csv('files/RAT/'+rat_produtividade_file, sep='|')\n",
    "#     dfp_aux = dfp_aux.applymap(lambda col: col.strip() if type(col) == str else col)\n",
    "#     dfp_aux = dfp_aux[dfp_aux['RAT.NUM_ATIVIDADE'].isin(df_rat.index)]\n",
    "#     dfp_acum = pd.concat([dfp_acum, dfp_aux])\n",
    "    \n",
    "# dfp_acum.to_sql('tbl_rat_produtividade', 'sqlite:///gdo.db', if_exists='replace', index=False)\n",
    "# del df_rat\n",
    "# del dfp_acum"
   ]
  }
 ],
 "metadata": {
  "celltoolbar": "Raw Cell Format",
  "kernelspec": {
   "display_name": "Python 3",
   "language": "python",
   "name": "python3"
  },
  "language_info": {
   "codemirror_mode": {
    "name": "ipython",
    "version": 3
   },
   "file_extension": ".py",
   "mimetype": "text/x-python",
   "name": "python",
   "nbconvert_exporter": "python",
   "pygments_lexer": "ipython3",
   "version": "3.7.3"
  }
 },
 "nbformat": 4,
 "nbformat_minor": 2
}
