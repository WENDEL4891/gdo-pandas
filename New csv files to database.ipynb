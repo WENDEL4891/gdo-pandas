{
 "cells": [
  {
   "cell_type": "code",
   "execution_count": 2,
   "metadata": {},
   "outputs": [],
   "source": [
    "import pandas as pd\n",
    "import numpy as np"
   ]
  },
  {
   "cell_type": "markdown",
   "metadata": {},
   "source": [
    "<h1 style='color:#008'>Read new RAT csv and insert data on database</h1>"
   ]
  },
  {
   "cell_type": "code",
   "execution_count": 12,
   "metadata": {},
   "outputs": [
    {
     "name": "stdout",
     "output_type": "stream",
     "text": [
      "files ok\n"
     ]
    },
    {
     "name": "stderr",
     "output_type": "stream",
     "text": [
      "b'Skipping line 56784: expected 32 fields, saw 33\\n'\n"
     ]
    },
    {
     "name": "stdout",
     "output_type": "stream",
     "text": [
      "files lidos ok\n",
      "processing df ok\n",
      "classificação setores ok\n",
      "classificação cias ok\n",
      "df_rat_db criado\n",
      "df_rat_db and df_rat deleted\n"
     ]
    },
    {
     "name": "stderr",
     "output_type": "stream",
     "text": [
      "/home/wendel/.asdf/installs/python/anaconda3-2019.07/lib/python3.7/site-packages/pandas/core/generic.py:2531: UserWarning: the 'timedelta' type is not supported, and will be written as integer values (ns frequency) to the database.\n",
      "  dtype=dtype, method=method)\n"
     ]
    },
    {
     "name": "stdout",
     "output_type": "stream",
     "text": [
      "dados exportados para o db ok\n",
      "df_rat_total deleted\n",
      "nomes dos arquivos importados, já inseridos no db\n",
      "CPU times: user 5.34 s, sys: 188 ms, total: 5.53 s\n",
      "Wall time: 8.45 s\n"
     ]
    }
   ],
   "source": [
    "%%time\n",
    "import pandas as pd\n",
    "import numpy as np\n",
    "import funcs\n",
    "\n",
    "files_names = funcs.get_files_names(only_not_imported=True)\n",
    "print('files ok')\n",
    "\n",
    "df_rat = funcs.read_files(files_names['rat'])\n",
    "print('files lidos ok')\n",
    "\n",
    "df_rat = funcs.data_rat_processing(df_rat)\n",
    "print('processing df ok')\n",
    "\n",
    "df_classif = funcs.get_df_classif()\n",
    "df_rat['SETOR'] = df_rat.apply(lambda row: funcs.classifica_setor(row, df_classif), axis=1)\n",
    "print('classificação setores ok')\n",
    "\n",
    "funcs.classifica_cia(df_rat=df_rat)\n",
    "print('classificação cias ok')\n",
    "\n",
    "df_rat_db = pd.read_sql_table('tbl_rat', 'sqlite:///gdo.db')\n",
    "df_rat_db['TEMPO_DT']  = df_rat_db['DTA_HRA_TERMINO_DT'] - df_rat_db['DTA_HRA_INICIO_DT']\n",
    "print('df_rat_db criado')\n",
    "\n",
    "df_rat_total = pd.concat([df_rat_db, df_rat])\n",
    "df_rat_total = df_rat_total.drop_duplicates(subset='RAT.NUM_ATIVIDADE', keep='last')\n",
    "\n",
    "%xdel df_rat_db\n",
    "%xdel df_rat\n",
    "print('df_rat_db and df_rat deleted')\n",
    "\n",
    "df_rat_total.to_sql('tbl_rat', 'sqlite:///gdo.db', if_exists='replace', index=False)\n",
    "print('dados exportados para o db ok')\n",
    "\n",
    "%xdel df_rat_total\n",
    "print('df_rat_total deleted')\n",
    "\n",
    "pd.DataFrame(files_names['rat']).to_sql('tbl_imported_files', 'sqlite:///gdo.db', if_exists='append', index=False)\n",
    "print('nomes dos arquivos importados, já inseridos no db')"
   ]
  },
  {
   "cell_type": "markdown",
   "metadata": {},
   "source": [
    "<h1 style='color:#008'>Read new RAT_VEICULO csv and insert data on database</h1>"
   ]
  },
  {
   "cell_type": "code",
   "execution_count": 13,
   "metadata": {},
   "outputs": [
    {
     "name": "stdout",
     "output_type": "stream",
     "text": [
      "files ok\n",
      "files lidos ok\n",
      "df_ratv_db criado\n",
      "df_ratv_db and df_ratv deleted\n",
      "dados exportados para o db ok\n",
      "df_ratv_total deleted\n",
      "nomes dos arquivos importados, já inseridos no db\n",
      "CPU times: user 711 ms, sys: 20.1 ms, total: 731 ms\n",
      "Wall time: 1.77 s\n"
     ]
    }
   ],
   "source": [
    "%%time\n",
    "import pandas as pd\n",
    "import numpy as np\n",
    "import funcs\n",
    "\n",
    "files_names = funcs.get_files_names(only_not_imported=True)\n",
    "print('files ok')\n",
    "\n",
    "\n",
    "df_ratv = funcs.read_files(files_names['ratv'], rat_data=False)\n",
    "print('files lidos ok')\n",
    "\n",
    "df_ratv_db = pd.read_sql_table('tbl_rat_veiculos', 'sqlite:///gdo.db')\n",
    "print('df_ratv_db criado')\n",
    "\n",
    "df_ratv_total = pd.concat([df_ratv_db, df_ratv])\n",
    "df_ratv_total = df_ratv_total.drop_duplicates(subset=['NUM_ATIVIDADE','NUM_PREFIXO'], keep='last')\n",
    "\n",
    "%xdel df_ratv_db\n",
    "%xdel df_ratv\n",
    "print('df_ratv_db and df_ratv deleted')\n",
    "\n",
    "df_ratv_total.to_sql('tbl_rat_veiculos', 'sqlite:///gdo.db', if_exists='replace', index=False)\n",
    "print('dados exportados para o db ok')\n",
    "\n",
    "%xdel df_ratv_total\n",
    "print('df_ratv_total deleted')\n",
    "\n",
    "pd.DataFrame(files_names['ratv']).to_sql('tbl_imported_files', 'sqlite:///gdo.db', if_exists='append', index=False)\n",
    "print('nomes dos arquivos importados, já inseridos no db')"
   ]
  },
  {
   "cell_type": "markdown",
   "metadata": {},
   "source": [
    "<h1 style='color:#008'>Read new RAT_EFETIVO csv and insert data on database</h1>"
   ]
  },
  {
   "cell_type": "code",
   "execution_count": 14,
   "metadata": {},
   "outputs": [
    {
     "name": "stdout",
     "output_type": "stream",
     "text": [
      "files ok\n",
      "files lidos ok\n",
      "df_rate_db criado\n",
      "df_rate_db and df_rate deleted\n",
      "dados exportados para o db ok\n",
      "df_rate_total deleted\n",
      "nomes dos arquivos importados, já inseridos no db\n",
      "CPU times: user 2.39 s, sys: 24.2 ms, total: 2.41 s\n",
      "Wall time: 2.78 s\n"
     ]
    }
   ],
   "source": [
    "%%time\n",
    "import pandas as pd\n",
    "import numpy as np\n",
    "import funcs\n",
    "\n",
    "files_names = funcs.get_files_names(only_not_imported=True)\n",
    "print('files ok')\n",
    "\n",
    "df_rate = funcs.read_files(files_names['rate'], rat_data=False)\n",
    "print('files lidos ok')\n",
    "\n",
    "df_rate_db = pd.read_sql_table('tbl_rat_efetivo', 'sqlite:///gdo.db')\n",
    "print('df_rate_db criado')\n",
    "\n",
    "df_rate_total = pd.concat([df_rate_db, df_rate])\n",
    "df_rate_total = df_rate_total.drop_duplicates(subset=['NUM_ATIVIDADE','NUM_MATRICULA'], keep='last')\n",
    "\n",
    "%xdel df_rate_db\n",
    "%xdel df_rate\n",
    "print('df_rate_db and df_rate deleted')\n",
    "\n",
    "df_rate_total.to_sql('tbl_rat_efetivo', 'sqlite:///gdo.db', if_exists='replace', index=False)\n",
    "print('dados exportados para o db ok')\n",
    "\n",
    "%xdel df_rate_total\n",
    "print('df_rate_total deleted')\n",
    "\n",
    "pd.DataFrame(files_names['rate']).to_sql('tbl_imported_files', 'sqlite:///gdo.db', if_exists='append', index=False)\n",
    "print('nomes dos arquivos importados, já inseridos no db')"
   ]
  },
  {
   "cell_type": "markdown",
   "metadata": {},
   "source": [
    "<h1 style='color:#008'>Read new RAT_PRODUTIVIDADE csv and insert data on database</h1>"
   ]
  },
  {
   "cell_type": "code",
   "execution_count": 15,
   "metadata": {},
   "outputs": [
    {
     "name": "stdout",
     "output_type": "stream",
     "text": [
      "files ok\n",
      "files lidos ok\n",
      "NameError: name 'df_rat_db' is not defined\n",
      "df_ratp_db criado\n",
      "df_ratp_db and df_ratp deleted\n",
      "dados exportados para o db ok\n",
      "df_ratp_total deleted\n",
      "nomes dos arquivos importados, já inseridos no db\n",
      "CPU times: user 1.06 s, sys: 36 ms, total: 1.1 s\n",
      "Wall time: 1.23 s\n"
     ]
    }
   ],
   "source": [
    "%%time\n",
    "import pandas as pd\n",
    "import numpy as np\n",
    "import funcs\n",
    "\n",
    "files_names = funcs.get_files_names(only_not_imported=True)\n",
    "print('files ok')\n",
    "\n",
    "df_ratp = funcs.read_files(files_names['ratp'], rat_data=False)\n",
    "print('files lidos ok')\n",
    "\n",
    "%xdel df_rat_db\n",
    "\n",
    "df_ratp_db = pd.read_sql_table('tbl_rat_produtividade', 'sqlite:///gdo.db')\n",
    "print('df_ratp_db criado')\n",
    "\n",
    "df_ratp_total = pd.concat([df_ratp_db, df_ratp])\n",
    "df_ratp_total = df_ratp_total.drop_duplicates(subset=['RAT.NUM_ATIVIDADE','DESCRICAO'], keep='last')\n",
    "\n",
    "%xdel df_ratp_db\n",
    "%xdel df_ratp\n",
    "print('df_ratp_db and df_ratp deleted')\n",
    "\n",
    "df_ratp_total.to_sql('tbl_rat_produtividade', 'sqlite:///gdo.db', if_exists='replace', index=False)\n",
    "print('dados exportados para o db ok')\n",
    "\n",
    "%xdel df_ratp_total\n",
    "print('df_ratp_total deleted')\n",
    "\n",
    "pd.DataFrame(files_names['ratp']).to_sql('tbl_imported_files', 'sqlite:///gdo.db', if_exists='append', index=False)\n",
    "print('nomes dos arquivos importados, já inseridos no db')"
   ]
  }
 ],
 "metadata": {
  "celltoolbar": "Raw Cell Format",
  "kernelspec": {
   "display_name": "Python 3",
   "language": "python",
   "name": "python3"
  },
  "language_info": {
   "codemirror_mode": {
    "name": "ipython",
    "version": 3
   },
   "file_extension": ".py",
   "mimetype": "text/x-python",
   "name": "python",
   "nbconvert_exporter": "python",
   "pygments_lexer": "ipython3",
   "version": "3.7.3"
  }
 },
 "nbformat": 4,
 "nbformat_minor": 2
}
