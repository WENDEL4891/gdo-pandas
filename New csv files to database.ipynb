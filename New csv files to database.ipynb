{
 "cells": [
  {
   "cell_type": "code",
   "execution_count": 2,
   "metadata": {},
   "outputs": [],
   "source": [
    "import pandas as pd\n",
    "import numpy as np"
   ]
  },
  {
   "cell_type": "markdown",
   "metadata": {},
   "source": [
    "<h1 style='color:#008'>Read new RAT csv and insert data on database</h1>"
   ]
  },
  {
   "cell_type": "code",
   "execution_count": 1,
   "metadata": {
    "collapsed": true
   },
   "outputs": [
    {
     "name": "stdout",
     "output_type": "stream",
     "text": [
      "files ok\n"
     ]
    },
    {
     "ename": "Exception",
     "evalue": "Não há arquivos csv novos para serem inseridos no banco de dados.",
     "output_type": "error",
     "traceback": [
      "\u001b[0;31m--------------------------------------------------------------------------\u001b[0m",
      "\u001b[0;31mException\u001b[0m                                Traceback (most recent call last)",
      "\u001b[0;32m<timed exec>\u001b[0m in \u001b[0;36m<module>\u001b[0;34m\u001b[0m\n",
      "\u001b[0;32m~/Projects/python/gdo-pandas/funcs.py\u001b[0m in \u001b[0;36mread_files\u001b[0;34m(files_path_names, df_rat, rat_data)\u001b[0m\n\u001b[1;32m     73\u001b[0m \u001b[0;32mdef\u001b[0m \u001b[0mread_files\u001b[0m\u001b[0;34m(\u001b[0m\u001b[0mfiles_path_names\u001b[0m\u001b[0;34m,\u001b[0m \u001b[0mdf_rat\u001b[0m\u001b[0;34m=\u001b[0m\u001b[0;32mNone\u001b[0m\u001b[0;34m,\u001b[0m \u001b[0mrat_data\u001b[0m\u001b[0;34m=\u001b[0m\u001b[0;32mTrue\u001b[0m\u001b[0;34m)\u001b[0m\u001b[0;34m:\u001b[0m\u001b[0;34m\u001b[0m\u001b[0;34m\u001b[0m\u001b[0m\n\u001b[1;32m     74\u001b[0m     \u001b[0;32mif\u001b[0m \u001b[0mlen\u001b[0m\u001b[0;34m(\u001b[0m \u001b[0mfiles_path_names\u001b[0m\u001b[0;34m)\u001b[0m \u001b[0;34m<\u001b[0m \u001b[0;36m1\u001b[0m\u001b[0;34m:\u001b[0m\u001b[0;34m\u001b[0m\u001b[0;34m\u001b[0m\u001b[0m\n\u001b[0;32m---> 75\u001b[0;31m         \u001b[0;32mraise\u001b[0m \u001b[0mException\u001b[0m\u001b[0;34m(\u001b[0m\u001b[0;34m'Não há arquivos csv novos para serem inseridos no banco de dados.'\u001b[0m\u001b[0;34m)\u001b[0m\u001b[0;34m\u001b[0m\u001b[0;34m\u001b[0m\u001b[0m\n\u001b[0m\u001b[1;32m     76\u001b[0m     \u001b[0;32mfor\u001b[0m \u001b[0mi\u001b[0m \u001b[0;32min\u001b[0m \u001b[0mrange\u001b[0m\u001b[0;34m(\u001b[0m \u001b[0mlen\u001b[0m\u001b[0;34m(\u001b[0m\u001b[0mfiles_path_names\u001b[0m\u001b[0;34m)\u001b[0m \u001b[0;34m)\u001b[0m\u001b[0;34m:\u001b[0m\u001b[0;34m\u001b[0m\u001b[0;34m\u001b[0m\u001b[0m\n\u001b[1;32m     77\u001b[0m         \u001b[0;32mif\u001b[0m \u001b[0mi\u001b[0m \u001b[0;34m==\u001b[0m \u001b[0;36m0\u001b[0m\u001b[0;34m:\u001b[0m\u001b[0;34m\u001b[0m\u001b[0;34m\u001b[0m\u001b[0m\n",
      "\u001b[0;31mException\u001b[0m: Não há arquivos csv novos para serem inseridos no banco de dados."
     ]
    }
   ],
   "source": [
    "%%time\n",
    "import pandas as pd\n",
    "import numpy as np\n",
    "import funcs\n",
    "\n",
    "files_names = funcs.get_files_names(only_not_imported=True)\n",
    "print('files ok')\n",
    "\n",
    "df_rat = funcs.read_files(files_names['rat'])\n",
    "print('files lidos ok')\n",
    "\n",
    "df_rat = funcs.data_rat_processing(df_rat)\n",
    "print('processing df ok')\n",
    "\n",
    "df_rat['SETOR'] = df_rat.apply(lambda row: funcs.classifica_setor(row), axis=1)\n",
    "print('classificação setores ok')\n",
    "\n",
    "funcs.classifica_cia(df_rat=df_rat)\n",
    "print('classificação cias ok')\n",
    "\n",
    "df_rat_db = pd.read_sql_table('tbl_rat', 'sqlite:///gdo.db')\n",
    "df_rat_db['TEMPO_DT']  = df_rat_db['DTA_HRA_TERMINO_DT'] - df_rat_db['DTA_HRA_INICIO_DT']\n",
    "print('df_rat_db criado')\n",
    "\n",
    "df_rat_total = pd.concat([df_rat_db, df_rat])\n",
    "df_rat_total = df_rat_total.drop_duplicates(subset='RAT.NUM_ATIVIDADE', keep='last')\n",
    "\n",
    "%xdel df_rat_db\n",
    "%xdel df_rat\n",
    "print('df_rat_db and df_rat deleted')\n",
    "\n",
    "df_rat_total.to_sql('tbl_rat', 'sqlite:///gdo.db', if_exists='replace', index=False)\n",
    "print('dados exportados para o db ok')\n",
    "\n",
    "%xdel df_rat_total\n",
    "print('df_rat_total deleted')\n",
    "\n",
    "pd.DataFrame(files_names['rat']).to_sql('tbl_imported_files', 'sqlite:///gdo.db', if_exists='append', index=False)\n",
    "print('nomes dos arquivos importados, já inseridos no db')"
   ]
  },
  {
   "cell_type": "markdown",
   "metadata": {},
   "source": [
    "<h1 style='color:#008'>Read new RAT_VEICULO csv and insert data on database</h1>"
   ]
  },
  {
   "cell_type": "code",
   "execution_count": 13,
   "metadata": {
    "collapsed": true
   },
   "outputs": [
    {
     "name": "stdout",
     "output_type": "stream",
     "text": [
      "files ok\n",
      "df_rat_db criado\n"
     ]
    },
    {
     "ename": "Exception",
     "evalue": "Não há arquivos csv novos para serem inseridos no banco de dados.",
     "output_type": "error",
     "traceback": [
      "\u001b[0;31m---------------------------------------------------------------------------\u001b[0m",
      "\u001b[0;31mException\u001b[0m                                 Traceback (most recent call last)",
      "\u001b[0;32m<timed exec>\u001b[0m in \u001b[0;36m<module>\u001b[0;34m\u001b[0m\n",
      "\u001b[0;32m~/Projects/python/gdo-pandas/funcs.py\u001b[0m in \u001b[0;36mread_files\u001b[0;34m(files_path_names, df_rat, rat_data)\u001b[0m\n\u001b[1;32m     73\u001b[0m \u001b[0;32mdef\u001b[0m \u001b[0mread_files\u001b[0m\u001b[0;34m(\u001b[0m\u001b[0mfiles_path_names\u001b[0m\u001b[0;34m,\u001b[0m \u001b[0mdf_rat\u001b[0m\u001b[0;34m=\u001b[0m\u001b[0;32mNone\u001b[0m\u001b[0;34m,\u001b[0m \u001b[0mrat_data\u001b[0m\u001b[0;34m=\u001b[0m\u001b[0;32mTrue\u001b[0m\u001b[0;34m)\u001b[0m\u001b[0;34m:\u001b[0m\u001b[0;34m\u001b[0m\u001b[0;34m\u001b[0m\u001b[0m\n\u001b[1;32m     74\u001b[0m     \u001b[0;32mif\u001b[0m \u001b[0mlen\u001b[0m\u001b[0;34m(\u001b[0m \u001b[0mfiles_path_names\u001b[0m\u001b[0;34m)\u001b[0m \u001b[0;34m<\u001b[0m \u001b[0;36m1\u001b[0m\u001b[0;34m:\u001b[0m\u001b[0;34m\u001b[0m\u001b[0;34m\u001b[0m\u001b[0m\n\u001b[0;32m---> 75\u001b[0;31m         \u001b[0;32mraise\u001b[0m \u001b[0mException\u001b[0m\u001b[0;34m(\u001b[0m\u001b[0;34m'Não há arquivos csv novos para serem inseridos no banco de dados.'\u001b[0m\u001b[0;34m)\u001b[0m\u001b[0;34m\u001b[0m\u001b[0;34m\u001b[0m\u001b[0m\n\u001b[0m\u001b[1;32m     76\u001b[0m     \u001b[0;32mfor\u001b[0m \u001b[0mi\u001b[0m \u001b[0;32min\u001b[0m \u001b[0mrange\u001b[0m\u001b[0;34m(\u001b[0m \u001b[0mlen\u001b[0m\u001b[0;34m(\u001b[0m\u001b[0mfiles_path_names\u001b[0m\u001b[0;34m)\u001b[0m \u001b[0;34m)\u001b[0m\u001b[0;34m:\u001b[0m\u001b[0;34m\u001b[0m\u001b[0;34m\u001b[0m\u001b[0m\n\u001b[1;32m     77\u001b[0m         \u001b[0;32mif\u001b[0m \u001b[0mi\u001b[0m \u001b[0;34m==\u001b[0m \u001b[0;36m0\u001b[0m\u001b[0;34m:\u001b[0m\u001b[0;34m\u001b[0m\u001b[0;34m\u001b[0m\u001b[0m\n",
      "\u001b[0;31mException\u001b[0m: Não há arquivos csv novos para serem inseridos no banco de dados."
     ]
    }
   ],
   "source": [
    "%%time\n",
    "import pandas as pd\n",
    "import numpy as np\n",
    "import funcs\n",
    "\n",
    "files_names = funcs.get_files_names(only_not_imported=True)\n",
    "print('files ok')\n",
    "\n",
    "df_rat_db = pd.read_sql_table('tbl_rat', 'sqlite:///gdo.db')\n",
    "print('df_rat_db criado')\n",
    "\n",
    "df_ratv = funcs.read_files(files_names['ratv'], df_rat=df_rat_db, rat_data=False)\n",
    "print('files lidos ok')\n",
    "\n",
    "df_ratv_db = pd.read_sql_table('tbl_rat_veiculos', 'sqlite:///gdo.db')\n",
    "print('df_ratv_db criado')\n",
    "\n",
    "df_ratv_total = pd.concat([df_ratv_db, df_ratv])\n",
    "df_ratv_total = df_ratv_total.drop_duplicates(subset=['NUM_ATIVIDADE','NUM_PREFIXO'], keep='last')\n",
    "\n",
    "%xdel df_ratv_db\n",
    "%xdel df_ratv\n",
    "print('df_ratv_db and df_ratv deleted')\n",
    "\n",
    "df_ratv_total.to_sql('tbl_rat_veiculos', 'sqlite:///gdo.db', if_exists='append', index=False)\n",
    "print('dados exportados para o db ok')\n",
    "\n",
    "%xdel df_ratv_total\n",
    "print('df_ratv_total deleted')\n",
    "\n",
    "pd.DataFrame(files_names['ratv']).to_sql('tbl_imported_files', 'sqlite:///gdo.db', if_exists='append', index=False)\n",
    "print('nomes dos arquivos importados, já inseridos no db')"
   ]
  },
  {
   "cell_type": "markdown",
   "metadata": {},
   "source": [
    "<h1 style='color:#008'>Read new RAT_EFETIVO csv and insert data on database</h1>"
   ]
  },
  {
   "cell_type": "code",
   "execution_count": 2,
   "metadata": {
    "collapsed": true
   },
   "outputs": [
    {
     "name": "stdout",
     "output_type": "stream",
     "text": [
      "df_rate_db and df_rate deleted\n",
      "dados exportados para o db ok\n",
      "df_rate_total deleted\n",
      "nomes dos arquivos importados, já inseridos no db\n",
      "CPU times: user 2.8 s, sys: 105 ms, total: 2.91 s\n",
      "Wall time: 3.35 s\n"
     ]
    }
   ],
   "source": [
    "%%time\n",
    "import pandas as pd\n",
    "import numpy as np\n",
    "import funcs\n",
    "\n",
    "files_names = funcs.get_files_names(only_not_imported=True)\n",
    "print('files ok')\n",
    "\n",
    "df_rat_db = pd.read_sql_table('tbl_rat', 'sqlite:///gdo.db')\n",
    "print('df_rat_db criado')\n",
    "\n",
    "df_rate = funcs.read_files(files_names['rate'], df_rat=df_rat_db, rat_data=False)\n",
    "print('files lidos ok')\n",
    "\n",
    "df_rate_db = pd.read_sql_table('tbl_rat_efetivo', 'sqlite:///gdo.db')\n",
    "print('df_rate_db criado')\n",
    "\n",
    "df_rate_total = pd.concat([df_rate_db, df_rate])\n",
    "df_rate_total = df_rate_total.drop_duplicates(subset=['NUM_ATIVIDADE','NUM_MATRICULA'], keep='last')\n",
    "\n",
    "%xdel df_rate_db\n",
    "%xdel df_rate\n",
    "print('df_rate_db and df_rate deleted')\n",
    "\n",
    "df_rate_total.to_sql('tbl_rat_efetivo', 'sqlite:///gdo.db', if_exists='append', index=False)\n",
    "print('dados exportados para o db ok')\n",
    "\n",
    "%xdel df_rate_total\n",
    "print('df_rate_total deleted')\n",
    "\n",
    "pd.DataFrame(files_names['rate']).to_sql('tbl_imported_files', 'sqlite:///gdo.db', if_exists='append', index=False)\n",
    "print('nomes dos arquivos importados, já inseridos no db')"
   ]
  },
  {
   "cell_type": "markdown",
   "metadata": {},
   "source": [
    "<h1 style='color:#008'>Read new RAT_PRODUTIVIDADE csv and insert data on database</h1>"
   ]
  },
  {
   "cell_type": "code",
   "execution_count": 4,
   "metadata": {},
   "outputs": [
    {
     "name": "stdout",
     "output_type": "stream",
     "text": [
      "df_ratp_db and df_ratp deleted\n",
      "dados exportados para o db ok\n",
      "df_ratp_total deleted\n",
      "nomes dos arquivos importados, já inseridos no db\n",
      "CPU times: user 1.34 s, sys: 28.3 ms, total: 1.37 s\n",
      "Wall time: 1.68 s\n"
     ]
    }
   ],
   "source": [
    "%%time\n",
    "import pandas as pd\n",
    "import numpy as np\n",
    "import funcs\n",
    "\n",
    "files_names = funcs.get_files_names(only_not_imported=True)\n",
    "print('files ok')\n",
    "\n",
    "df_rat_db = pd.read_sql_table('tbl_rat', 'sqlite:///gdo.db')\n",
    "print('df_rat_db criado')\n",
    "\n",
    "df_ratp = funcs.read_files(files_names['ratp'], df_rat=df_rat_db, rat_data=False)\n",
    "print('files lidos ok')\n",
    "\n",
    "%xdel df_rat_db\n",
    "\n",
    "df_ratp_db = pd.read_sql_table('tbl_rat_produtividade', 'sqlite:///gdo.db')\n",
    "print('df_ratp_db criado')\n",
    "\n",
    "df_ratp_total = pd.concat([df_ratp_db, df_ratp])\n",
    "df_ratp_total = df_ratp_total.drop_duplicates(subset=['RAT.NUM_ATIVIDADE','DESCRICAO'], keep='last')\n",
    "\n",
    "%xdel df_ratp_db\n",
    "%xdel df_ratp\n",
    "print('df_ratp_db and df_ratp deleted')\n",
    "\n",
    "df_ratp_total.to_sql('tbl_rat_produtividade', 'sqlite:///gdo.db', if_exists='append', index=False)\n",
    "print('dados exportados para o db ok')\n",
    "\n",
    "%xdel df_ratp_total\n",
    "print('df_ratp_total deleted')\n",
    "\n",
    "pd.DataFrame(files_names['ratp']).to_sql('tbl_imported_files', 'sqlite:///gdo.db', if_exists='append', index=False)\n",
    "print('nomes dos arquivos importados, já inseridos no db')"
   ]
  }
 ],
 "metadata": {
  "celltoolbar": "Raw Cell Format",
  "kernelspec": {
   "display_name": "Python 3",
   "language": "python",
   "name": "python3"
  },
  "language_info": {
   "codemirror_mode": {
    "name": "ipython",
    "version": 3
   },
   "file_extension": ".py",
   "mimetype": "text/x-python",
   "name": "python",
   "nbconvert_exporter": "python",
   "pygments_lexer": "ipython3",
   "version": "3.7.4"
  }
 },
 "nbformat": 4,
 "nbformat_minor": 2
}
