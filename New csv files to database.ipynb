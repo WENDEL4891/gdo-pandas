{
 "cells": [
  {
   "cell_type": "markdown",
   "metadata": {},
   "source": [
    "<h1 style='color:#008'>Read new RAT csv and insert data on database</h1>"
   ]
  },
  {
   "cell_type": "code",
   "execution_count": 5,
   "metadata": {},
   "outputs": [
    {
     "name": "stdout",
     "output_type": "stream",
     "text": [
      "files ok\n"
     ]
    },
    {
     "ename": "Exception",
     "evalue": "Não há arquivos csv novos para serem inseridos no banco de dados.",
     "output_type": "error",
     "traceback": [
      "\u001b[0;31m---------------------------------------------------------------------------\u001b[0m",
      "\u001b[0;31mException\u001b[0m                                 Traceback (most recent call last)",
      "\u001b[0;32m<ipython-input-5-0db5f31e334e>\u001b[0m in \u001b[0;36m<module>\u001b[0;34m\u001b[0m\n\u001b[1;32m      6\u001b[0m \u001b[0mprint\u001b[0m\u001b[0;34m(\u001b[0m\u001b[0;34m'files ok'\u001b[0m\u001b[0;34m)\u001b[0m\u001b[0;34m\u001b[0m\u001b[0;34m\u001b[0m\u001b[0m\n\u001b[1;32m      7\u001b[0m \u001b[0;34m\u001b[0m\u001b[0m\n\u001b[0;32m----> 8\u001b[0;31m \u001b[0mdf_rat\u001b[0m \u001b[0;34m=\u001b[0m \u001b[0mfuncs\u001b[0m\u001b[0;34m.\u001b[0m\u001b[0mread_files\u001b[0m\u001b[0;34m(\u001b[0m\u001b[0mfiles_names\u001b[0m\u001b[0;34m[\u001b[0m\u001b[0;34m'rat'\u001b[0m\u001b[0;34m]\u001b[0m\u001b[0;34m)\u001b[0m\u001b[0;34m\u001b[0m\u001b[0;34m\u001b[0m\u001b[0m\n\u001b[0m\u001b[1;32m      9\u001b[0m \u001b[0mprint\u001b[0m\u001b[0;34m(\u001b[0m\u001b[0;34m'files lidos ok'\u001b[0m\u001b[0;34m)\u001b[0m\u001b[0;34m\u001b[0m\u001b[0;34m\u001b[0m\u001b[0m\n\u001b[1;32m     10\u001b[0m \u001b[0;34m\u001b[0m\u001b[0m\n",
      "\u001b[0;32m~/Projects/python/gdo-pandas/funcs.py\u001b[0m in \u001b[0;36mread_files\u001b[0;34m(files_path_names, rat_data)\u001b[0m\n\u001b[1;32m     82\u001b[0m         \u001b[0mnrats_on_db\u001b[0m \u001b[0;34m=\u001b[0m \u001b[0mget_nrats_on_db\u001b[0m\u001b[0;34m(\u001b[0m\u001b[0;34m)\u001b[0m\u001b[0;34m\u001b[0m\u001b[0;34m\u001b[0m\u001b[0m\n\u001b[1;32m     83\u001b[0m     \u001b[0;32mif\u001b[0m \u001b[0mlen\u001b[0m\u001b[0;34m(\u001b[0m \u001b[0mfiles_path_names\u001b[0m\u001b[0;34m)\u001b[0m \u001b[0;34m<\u001b[0m \u001b[0;36m1\u001b[0m\u001b[0;34m:\u001b[0m\u001b[0;34m\u001b[0m\u001b[0;34m\u001b[0m\u001b[0m\n\u001b[0;32m---> 84\u001b[0;31m         \u001b[0;32mraise\u001b[0m \u001b[0mException\u001b[0m\u001b[0;34m(\u001b[0m\u001b[0;34m'Não há arquivos csv novos para serem inseridos no banco de dados.'\u001b[0m\u001b[0;34m)\u001b[0m\u001b[0;34m\u001b[0m\u001b[0;34m\u001b[0m\u001b[0m\n\u001b[0m\u001b[1;32m     85\u001b[0m     \u001b[0;32mfor\u001b[0m \u001b[0mi\u001b[0m \u001b[0;32min\u001b[0m \u001b[0mrange\u001b[0m\u001b[0;34m(\u001b[0m \u001b[0mlen\u001b[0m\u001b[0;34m(\u001b[0m\u001b[0mfiles_path_names\u001b[0m\u001b[0;34m)\u001b[0m \u001b[0;34m)\u001b[0m\u001b[0;34m:\u001b[0m\u001b[0;34m\u001b[0m\u001b[0;34m\u001b[0m\u001b[0m\n\u001b[1;32m     86\u001b[0m         \u001b[0;32mif\u001b[0m \u001b[0mi\u001b[0m \u001b[0;34m==\u001b[0m \u001b[0;36m0\u001b[0m\u001b[0;34m:\u001b[0m\u001b[0;34m\u001b[0m\u001b[0;34m\u001b[0m\u001b[0m\n",
      "\u001b[0;31mException\u001b[0m: Não há arquivos csv novos para serem inseridos no banco de dados."
     ]
    }
   ],
   "source": [
    "import pandas as pd\n",
    "import numpy as np\n",
    "import funcs\n",
    "\n",
    "files_names = funcs.get_files_names(only_not_imported=True)\n",
    "print('files ok')\n",
    "\n",
    "df_rat = funcs.read_files(files_names['rat'])\n",
    "print('files lidos ok')\n",
    "\n",
    "df_rat = funcs.data_rat_processing(df_rat)\n",
    "print('processing df ok')\n",
    "\n",
    "df_classif = funcs.get_df_classif()\n",
    "df_rat['SETOR'] = df_rat.apply(lambda row: funcs.classifica_setor(row, df_classif), axis=1)\n",
    "print('classificação setores ok')\n",
    "\n",
    "funcs.classifica_cia(df_rat=df_rat)\n",
    "print('classificação cias ok')\n",
    "\n",
    "df_rat_db = pd.read_sql_table('tbl_rat', 'sqlite:///gdo.db')\n",
    "df_rat_db['TEMPO_DT']  = df_rat_db['DTA_HRA_TERMINO_DT'] - df_rat_db['DTA_HRA_INICIO_DT']\n",
    "print('df_rat_db criado')\n",
    "\n",
    "df_rat_total = pd.concat([df_rat_db, df_rat])\n",
    "df_rat_total = df_rat_total.drop_duplicates(subset='RAT.NUM_ATIVIDADE', keep='last')\n",
    "\n",
    "\n",
    "df_rat_total.to_sql('tbl_rat', 'sqlite:///gdo.db', if_exists='replace', index=False)\n",
    "print('dados exportados para o db ok')\n",
    "\n",
    "%xdel df_rat_total\n",
    "print('df_rat_total deleted')\n",
    "\n",
    "pd.DataFrame(files_names['rat']).to_sql('tbl_imported_files', 'sqlite:///gdo.db', if_exists='append', index=False)\n",
    "print('nomes dos arquivos importados, já inseridos no db')"
   ]
  },
  {
   "cell_type": "markdown",
   "metadata": {},
   "source": [
    "<h1 style='color:#008'>Read new RAT_VIATURAS csv and insert data on database</h1>"
   ]
  },
  {
   "cell_type": "code",
   "execution_count": 7,
   "metadata": {},
   "outputs": [
    {
     "name": "stdout",
     "output_type": "stream",
     "text": [
      "files ok\n"
     ]
    },
    {
     "ename": "Exception",
     "evalue": "Não há arquivos csv novos para serem inseridos no banco de dados.",
     "output_type": "error",
     "traceback": [
      "\u001b[0;31m---------------------------------------------------------------------------\u001b[0m",
      "\u001b[0;31mException\u001b[0m                                 Traceback (most recent call last)",
      "\u001b[0;32m<ipython-input-7-9ba1136bfdb5>\u001b[0m in \u001b[0;36m<module>\u001b[0;34m\u001b[0m\n\u001b[1;32m      7\u001b[0m \u001b[0;34m\u001b[0m\u001b[0m\n\u001b[1;32m      8\u001b[0m \u001b[0;34m\u001b[0m\u001b[0m\n\u001b[0;32m----> 9\u001b[0;31m \u001b[0mdf_ratv\u001b[0m \u001b[0;34m=\u001b[0m \u001b[0mfuncs\u001b[0m\u001b[0;34m.\u001b[0m\u001b[0mread_files\u001b[0m\u001b[0;34m(\u001b[0m\u001b[0mfiles_names\u001b[0m\u001b[0;34m[\u001b[0m\u001b[0;34m'ratv'\u001b[0m\u001b[0;34m]\u001b[0m\u001b[0;34m,\u001b[0m \u001b[0mrat_data\u001b[0m\u001b[0;34m=\u001b[0m\u001b[0;32mFalse\u001b[0m\u001b[0;34m)\u001b[0m\u001b[0;34m\u001b[0m\u001b[0;34m\u001b[0m\u001b[0m\n\u001b[0m\u001b[1;32m     10\u001b[0m \u001b[0mprint\u001b[0m\u001b[0;34m(\u001b[0m\u001b[0;34m'files lidos ok'\u001b[0m\u001b[0;34m)\u001b[0m\u001b[0;34m\u001b[0m\u001b[0;34m\u001b[0m\u001b[0m\n\u001b[1;32m     11\u001b[0m \u001b[0;34m\u001b[0m\u001b[0m\n",
      "\u001b[0;32m~/Projects/python/gdo-pandas/funcs.py\u001b[0m in \u001b[0;36mread_files\u001b[0;34m(files_path_names, rat_data)\u001b[0m\n\u001b[1;32m     82\u001b[0m         \u001b[0mnrats_on_db\u001b[0m \u001b[0;34m=\u001b[0m \u001b[0mget_nrats_on_db\u001b[0m\u001b[0;34m(\u001b[0m\u001b[0;34m)\u001b[0m\u001b[0;34m\u001b[0m\u001b[0;34m\u001b[0m\u001b[0m\n\u001b[1;32m     83\u001b[0m     \u001b[0;32mif\u001b[0m \u001b[0mlen\u001b[0m\u001b[0;34m(\u001b[0m \u001b[0mfiles_path_names\u001b[0m\u001b[0;34m)\u001b[0m \u001b[0;34m<\u001b[0m \u001b[0;36m1\u001b[0m\u001b[0;34m:\u001b[0m\u001b[0;34m\u001b[0m\u001b[0;34m\u001b[0m\u001b[0m\n\u001b[0;32m---> 84\u001b[0;31m         \u001b[0;32mraise\u001b[0m \u001b[0mException\u001b[0m\u001b[0;34m(\u001b[0m\u001b[0;34m'Não há arquivos csv novos para serem inseridos no banco de dados.'\u001b[0m\u001b[0;34m)\u001b[0m\u001b[0;34m\u001b[0m\u001b[0;34m\u001b[0m\u001b[0m\n\u001b[0m\u001b[1;32m     85\u001b[0m     \u001b[0;32mfor\u001b[0m \u001b[0mi\u001b[0m \u001b[0;32min\u001b[0m \u001b[0mrange\u001b[0m\u001b[0;34m(\u001b[0m \u001b[0mlen\u001b[0m\u001b[0;34m(\u001b[0m\u001b[0mfiles_path_names\u001b[0m\u001b[0;34m)\u001b[0m \u001b[0;34m)\u001b[0m\u001b[0;34m:\u001b[0m\u001b[0;34m\u001b[0m\u001b[0;34m\u001b[0m\u001b[0m\n\u001b[1;32m     86\u001b[0m         \u001b[0;32mif\u001b[0m \u001b[0mi\u001b[0m \u001b[0;34m==\u001b[0m \u001b[0;36m0\u001b[0m\u001b[0;34m:\u001b[0m\u001b[0;34m\u001b[0m\u001b[0;34m\u001b[0m\u001b[0m\n",
      "\u001b[0;31mException\u001b[0m: Não há arquivos csv novos para serem inseridos no banco de dados."
     ]
    }
   ],
   "source": [
    "import pandas as pd\n",
    "import numpy as np\n",
    "import funcs\n",
    "\n",
    "files_names = funcs.get_files_names(only_not_imported=True)\n",
    "print('files ok')\n",
    "\n",
    "\n",
    "df_ratv = funcs.read_files(files_names['ratv'], rat_data=False)\n",
    "print('files lidos ok')\n",
    "\n",
    "df_ratv_db = pd.read_sql_table('tbl_rat_viaturas', 'sqlite:///gdo.db')\n",
    "print('df_ratv_db criado')\n",
    "\n",
    "df_ratv_total = pd.concat([df_ratv_db, df_ratv])\n",
    "df_ratv_total = df_ratv_total.drop_duplicates(subset=['NUM_ATIVIDADE','NUM_PREFIXO'], keep='last')\n",
    "\n",
    "\n",
    "df_ratv_total.to_sql('tbl_rat_viaturas', 'sqlite:///gdo.db', if_exists='replace', index=False)\n",
    "print('dados exportados para o db ok')\n",
    "\n",
    "%xdel df_ratv_total\n",
    "print('df_ratv_total deleted')\n",
    "\n",
    "pd.DataFrame(files_names['ratv']).to_sql('tbl_imported_files', 'sqlite:///gdo.db', if_exists='append', index=False)\n",
    "print('nomes dos arquivos importados, já inseridos no db')"
   ]
  },
  {
   "cell_type": "markdown",
   "metadata": {},
   "source": [
    "<h1 style='color:#008'>Read new RAT_EFETIVO csv and insert data on database</h1>"
   ]
  },
  {
   "cell_type": "code",
   "execution_count": 3,
   "metadata": {},
   "outputs": [
    {
     "name": "stdout",
     "output_type": "stream",
     "text": [
      "files ok\n",
      "files lidos ok\n",
      "df_rate_db criado\n",
      "dados exportados para o db ok\n",
      "df_rate_total deleted\n",
      "nomes dos arquivos importados, já inseridos no db\n"
     ]
    }
   ],
   "source": [
    "import pandas as pd\n",
    "import numpy as np\n",
    "import funcs\n",
    "\n",
    "files_names = funcs.get_files_names(only_not_imported=True)\n",
    "print('files ok')\n",
    "\n",
    "df_rate = funcs.read_files(files_names['rate'], rat_data=False)\n",
    "print('files lidos ok')\n",
    "\n",
    "df_rate_db = pd.read_sql_table('tbl_rat_efetivo', 'sqlite:///gdo.db')\n",
    "print('df_rate_db criado')\n",
    "\n",
    "df_rate_total = pd.concat([df_rate_db, df_rate])\n",
    "df_rate_total = df_rate_total.drop_duplicates(subset=['NUM_ATIVIDADE','NUM_MATRICULA'], keep='last')\n",
    "\n",
    "\n",
    "df_rate_total.to_sql('tbl_rat_efetivo', 'sqlite:///gdo.db', if_exists='replace', index=False)\n",
    "print('dados exportados para o db ok')\n",
    "\n",
    "%xdel df_rate_total\n",
    "print('df_rate_total deleted')\n",
    "\n",
    "pd.DataFrame(files_names['rate']).to_sql('tbl_imported_files', 'sqlite:///gdo.db', if_exists='append', index=False)\n",
    "print('nomes dos arquivos importados, já inseridos no db')"
   ]
  },
  {
   "cell_type": "markdown",
   "metadata": {},
   "source": [
    "<h1 style='color:#008'>Read new RAT_PRODUTIVIDADE csv and insert data on database</h1>"
   ]
  },
  {
   "cell_type": "code",
   "execution_count": 4,
   "metadata": {},
   "outputs": [
    {
     "name": "stdout",
     "output_type": "stream",
     "text": [
      "files ok\n",
      "files lidos ok\n",
      "NameError: name 'df_rat_db' is not defined\n",
      "df_ratp_db criado\n",
      "dados exportados para o db ok\n",
      "df_ratp_total deleted\n",
      "nomes dos arquivos importados, já inseridos no db\n"
     ]
    }
   ],
   "source": [
    "import pandas as pd\n",
    "import numpy as np\n",
    "import funcs\n",
    "\n",
    "files_names = funcs.get_files_names(only_not_imported=True)\n",
    "print('files ok')\n",
    "\n",
    "df_ratp = funcs.read_files(files_names['ratp'], rat_data=False)\n",
    "print('files lidos ok')\n",
    "\n",
    "%xdel df_rat_db\n",
    "\n",
    "df_ratp_db = pd.read_sql_table('tbl_rat_produtividade', 'sqlite:///gdo.db')\n",
    "print('df_ratp_db criado')\n",
    "\n",
    "df_ratp_total = pd.concat([df_ratp_db, df_ratp])\n",
    "df_ratp_total = df_ratp_total.drop_duplicates(subset=['RAT.NUM_ATIVIDADE','DESCRICAO'], keep='last')\n",
    "\n",
    "\n",
    "df_ratp_total.to_sql('tbl_rat_produtividade', 'sqlite:///gdo.db', if_exists='replace', index=False)\n",
    "print('dados exportados para o db ok')\n",
    "\n",
    "%xdel df_ratp_total\n",
    "print('df_ratp_total deleted')\n",
    "\n",
    "pd.DataFrame(files_names['ratp']).to_sql('tbl_imported_files', 'sqlite:///gdo.db', if_exists='append', index=False)\n",
    "print('nomes dos arquivos importados, já inseridos no db')"
   ]
  }
 ],
 "metadata": {
  "celltoolbar": "Raw Cell Format",
  "kernelspec": {
   "display_name": "Python 3",
   "language": "python",
   "name": "python3"
  },
  "language_info": {
   "codemirror_mode": {
    "name": "ipython",
    "version": 3
   },
   "file_extension": ".py",
   "mimetype": "text/x-python",
   "name": "python",
   "nbconvert_exporter": "python",
   "pygments_lexer": "ipython3",
   "version": "3.7.6"
  }
 },
 "nbformat": 4,
 "nbformat_minor": 2
}
