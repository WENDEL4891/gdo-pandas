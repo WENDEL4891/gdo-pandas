{
 "cells": [
  {
   "cell_type": "markdown",
   "metadata": {},
   "source": [
    "<h1 style='color:#008'>Read all RAT csv insert data on database</h1>"
   ]
  },
  {
   "cell_type": "code",
   "execution_count": 2,
   "metadata": {
    "collapsed": true
   },
   "outputs": [
    {
     "name": "stdout",
     "output_type": "stream",
     "text": [
      "files ok\n"
     ]
    },
    {
     "name": "stderr",
     "output_type": "stream",
     "text": [
      "b'Skipping line 34161: expected 32 fields, saw 33\\n'\n",
      "b'Skipping line 15568: expected 32 fields, saw 33\\n'\n",
      "b'Skipping line 2860: expected 32 fields, saw 33\\n'\n",
      "b'Skipping line 12419: expected 32 fields, saw 33\\n'\n",
      "b'Skipping line 50881: expected 32 fields, saw 33\\n'\n",
      "b'Skipping line 58502: expected 32 fields, saw 33\\n'\n",
      "b'Skipping line 12496: expected 32 fields, saw 33\\n'\n",
      "b'Skipping line 18880: expected 32 fields, saw 33\\nSkipping line 28767: expected 32 fields, saw 37\\n'\n",
      "b'Skipping line 33410: expected 32 fields, saw 33\\n'\n",
      "b'Skipping line 4115: expected 32 fields, saw 33\\nSkipping line 10843: expected 32 fields, saw 33\\nSkipping line 10898: expected 32 fields, saw 33\\n'\n",
      "b'Skipping line 29942: expected 32 fields, saw 33\\n'\n",
      "b'Skipping line 21255: expected 32 fields, saw 33\\nSkipping line 24994: expected 32 fields, saw 33\\nSkipping line 25042: expected 32 fields, saw 33\\n'\n",
      "b'Skipping line 35252: expected 32 fields, saw 33\\nSkipping line 45513: expected 32 fields, saw 40\\n'\n",
      "b'Skipping line 50216: expected 32 fields, saw 33\\n'\n",
      "b'Skipping line 48112: expected 32 fields, saw 33\\n'\n",
      "b'Skipping line 1088: expected 32 fields, saw 33\\n'\n",
      "b'Skipping line 44536: expected 32 fields, saw 33\\n'\n",
      "b'Skipping line 50946: expected 32 fields, saw 33\\n'\n",
      "b'Skipping line 26638: expected 32 fields, saw 33\\n'\n",
      "b'Skipping line 993: expected 32 fields, saw 40\\n'\n",
      "b'Skipping line 21749: expected 32 fields, saw 33\\n'\n",
      "b'Skipping line 39087: expected 32 fields, saw 33\\n'\n",
      "b'Skipping line 56784: expected 32 fields, saw 33\\n'\n"
     ]
    },
    {
     "name": "stdout",
     "output_type": "stream",
     "text": [
      "files lidos ok\n",
      "processing df ok\n",
      "classificação setores ok\n",
      "classificação cias ok\n",
      "dados exportados para o db ok\n",
      "df_rat deleted\n",
      "nomes dos arquivos importados, já inseridos no db\n",
      "CPU times: user 1min 12s, sys: 372 ms, total: 1min 12s\n",
      "Wall time: 1min 14s\n"
     ]
    }
   ],
   "source": [
    "%%time\n",
    "import pandas as pd\n",
    "import funcs\n",
    "\n",
    "files_names = funcs.get_files_names(only_not_imported=False)\n",
    "print('files ok')\n",
    "\n",
    "df_rat = funcs.read_files(files_names['rat'])\n",
    "print('files lidos ok')\n",
    "\n",
    "df_rat = funcs.data_rat_processing(df_rat)\n",
    "print('processing df ok')\n",
    "\n",
    "df_rat['SETOR'] = df_rat.apply(lambda row: funcs.classifica_setor(row), axis=1)\n",
    "print('classificação setores ok')\n",
    "\n",
    "funcs.classifica_cia(df_rat=df_rat)\n",
    "print('classificação cias ok')\n",
    "\n",
    "\n",
    "df_rat.to_sql('tbl_rat', 'sqlite:///gdo.db', if_exists='replace', index=False)\n",
    "print('dados exportados para o db ok')\n",
    "\n",
    "%xdel df_rat\n",
    "print('df_rat deleted')\n",
    "\n",
    "pd.DataFrame(files_names['rat']).to_sql('tbl_imported_files', 'sqlite:///gdo.db', if_exists='replace', index=False)\n",
    "print('nomes dos arquivos importados, já inseridos no db')"
   ]
  },
  {
   "cell_type": "markdown",
   "metadata": {},
   "source": [
    "<h1 style='color:#008'>Read all RAT_VIATURA csv insert data on database</h1>"
   ]
  },
  {
   "cell_type": "code",
   "execution_count": 3,
   "metadata": {},
   "outputs": [
    {
     "name": "stdout",
     "output_type": "stream",
     "text": [
      "files ok\n",
      "df_rat_db criado\n",
      "files lidos ok\n",
      "dados exportados para o db ok\n",
      "df_ratv deleted\n",
      "nomes dos arquivos importados, já inseridos no db\n",
      "CPU times: user 12.8 s, sys: 164 ms, total: 13 s\n",
      "Wall time: 15 s\n"
     ]
    }
   ],
   "source": [
    "%%time\n",
    "import pandas as pd\n",
    "import numpy as np\n",
    "import funcs\n",
    "\n",
    "files_names = funcs.get_files_names(only_not_imported=False)\n",
    "print('files ok')\n",
    "\n",
    "df_rat_db = pd.read_sql_table('tbl_rat', 'sqlite:///gdo.db')\n",
    "print('df_rat_db criado')\n",
    "\n",
    "df_ratv = funcs.read_files(files_names['ratv'], df_rat=df_rat_db, rat_data=False)\n",
    "print('files lidos ok')\n",
    "\n",
    "df_ratv.to_sql('tbl_rat_veiculos', 'sqlite:///gdo.db', if_exists='replace', index=False)\n",
    "print('dados exportados para o db ok')\n",
    "\n",
    "%xdel df_ratv\n",
    "print('df_ratv deleted')\n",
    "\n",
    "df_names_files = pd.read_sql_table('tbl_imported_files', 'sqlite:///gdo.db')\n",
    "\n",
    "df_names_files = df_names_files[\n",
    "    ~ df_names_files['0'].str.contains('REDS_RAT_V')\n",
    "]\n",
    "\n",
    "pd.DataFrame(files_names['ratv']).to_sql('tbl_imported_files', 'sqlite:///gdo.db', if_exists='append', index=False)\n",
    "print('nomes dos arquivos importados, já inseridos no db')"
   ]
  },
  {
   "cell_type": "markdown",
   "metadata": {},
   "source": [
    "<h1 style='color:#008'>Read all RAT_EFETIVO csv insert data on database</h1>"
   ]
  },
  {
   "cell_type": "code",
   "execution_count": 4,
   "metadata": {},
   "outputs": [
    {
     "name": "stdout",
     "output_type": "stream",
     "text": [
      "files ok\n",
      "df_rat_db criado\n",
      "files lidos ok\n",
      "dados exportados para o db ok\n",
      "df_rate deleted\n",
      "nomes dos arquivos importados, já inseridos no db\n",
      "CPU times: user 34.9 s, sys: 829 ms, total: 35.7 s\n",
      "Wall time: 42.6 s\n"
     ]
    }
   ],
   "source": [
    "%%time\n",
    "import pandas as pd\n",
    "import numpy as np\n",
    "import funcs\n",
    "\n",
    "files_names = funcs.get_files_names(only_not_imported=True)\n",
    "print('files ok')\n",
    "\n",
    "df_rat_db = pd.read_sql_table('tbl_rat', 'sqlite:///gdo.db')\n",
    "print('df_rat_db criado')\n",
    "\n",
    "df_rate = funcs.read_files(files_names['rate'], df_rat=df_rat_db, rat_data=False)\n",
    "print('files lidos ok')\n",
    "\n",
    "df_rate.to_sql('tbl_rat_efetivo', 'sqlite:///gdo.db', if_exists='replace', index=False)\n",
    "print('dados exportados para o db ok')\n",
    "\n",
    "%xdel df_rate\n",
    "print('df_rate deleted')\n",
    "\n",
    "df_names_files = pd.read_sql_table('tbl_imported_files', 'sqlite:///gdo.db')\n",
    "\n",
    "df_names_files = df_names_files[\n",
    "    ~ df_names_files['0'].str.contains('REDS_RAT_E')\n",
    "]\n",
    "\n",
    "pd.DataFrame(files_names['rate']).to_sql('tbl_imported_files', 'sqlite:///gdo.db', if_exists='append', index=False)\n",
    "print('nomes dos arquivos importados, já inseridos no db')"
   ]
  },
  {
   "cell_type": "markdown",
   "metadata": {},
   "source": [
    "<h1 style='color:#008'>Read all RAT_PRODUTIVIDADE csv insert data on database</h1>"
   ]
  },
  {
   "cell_type": "code",
   "execution_count": 5,
   "metadata": {},
   "outputs": [
    {
     "name": "stdout",
     "output_type": "stream",
     "text": [
      "files ok\n",
      "df_rat_db criado\n",
      "files lidos ok\n",
      "dados exportados para o db ok\n",
      "df_ratp deleted\n",
      "nomes dos arquivos importados, já inseridos no db\n",
      "CPU times: user 14.1 s, sys: 248 ms, total: 14.4 s\n",
      "Wall time: 17.3 s\n"
     ]
    }
   ],
   "source": [
    "%%time\n",
    "import pandas as pd\n",
    "import numpy as np\n",
    "import funcs\n",
    "\n",
    "files_names = funcs.get_files_names(only_not_imported=True)\n",
    "print('files ok')\n",
    "\n",
    "df_rat_db = pd.read_sql_table('tbl_rat', 'sqlite:///gdo.db')\n",
    "print('df_rat_db criado')\n",
    "\n",
    "df_ratp = funcs.read_files(files_names['ratp'], df_rat=df_rat_db, rat_data=False)\n",
    "print('files lidos ok')\n",
    "\n",
    "df_ratp.to_sql('tbl_rat_produtividade', 'sqlite:///gdo.db', if_exists='replace', index=False)\n",
    "print('dados exportados para o db ok')\n",
    "\n",
    "%xdel df_ratp\n",
    "print('df_ratp deleted')\n",
    "\n",
    "df_names_files = pd.read_sql_table('tbl_imported_files', 'sqlite:///gdo.db')\n",
    "\n",
    "df_names_files = df_names_files[\n",
    "    ~ df_names_files['0'].str.contains('REDS_RAT_P')\n",
    "]\n",
    "\n",
    "pd.DataFrame(files_names['ratp']).to_sql('tbl_imported_files', 'sqlite:///gdo.db', if_exists='append', index=False)\n",
    "print('nomes dos arquivos importados, já inseridos no db')"
   ]
  }
 ],
 "metadata": {
  "celltoolbar": "Raw Cell Format",
  "kernelspec": {
   "display_name": "Python 3",
   "language": "python",
   "name": "python3"
  },
  "language_info": {
   "codemirror_mode": {
    "name": "ipython",
    "version": 3
   },
   "file_extension": ".py",
   "mimetype": "text/x-python",
   "name": "python",
   "nbconvert_exporter": "python",
   "pygments_lexer": "ipython3",
   "version": "3.7.4"
  }
 },
 "nbformat": 4,
 "nbformat_minor": 2
}
