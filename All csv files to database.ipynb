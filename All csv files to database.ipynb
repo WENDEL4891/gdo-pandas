{
 "cells": [
  {
   "cell_type": "markdown",
   "metadata": {},
   "source": [
    "<h1 style='color:#008'>Read all RAT csv insert data on database</h1>"
   ]
  },
  {
   "cell_type": "code",
   "execution_count": 1,
   "metadata": {
    "collapsed": true
   },
   "outputs": [
    {
     "name": "stdout",
     "output_type": "stream",
     "text": [
      "files ok\n"
     ]
    },
    {
     "name": "stderr",
     "output_type": "stream",
     "text": [
      "b'Skipping line 25801: expected 32 fields, saw 33\\n'\n",
      "b'Skipping line 34582: expected 32 fields, saw 33\\n'\n",
      "b'Skipping line 15568: expected 32 fields, saw 33\\n'\n",
      "b'Skipping line 2860: expected 32 fields, saw 33\\n'\n",
      "b'Skipping line 12419: expected 32 fields, saw 33\\n'\n",
      "b'Skipping line 50881: expected 32 fields, saw 33\\n'\n",
      "b'Skipping line 58502: expected 32 fields, saw 33\\n'\n",
      "b'Skipping line 12496: expected 32 fields, saw 33\\n'\n",
      "b'Skipping line 18880: expected 32 fields, saw 33\\n'\n",
      "b'Skipping line 34249: expected 32 fields, saw 33\\n'\n",
      "b'Skipping line 4115: expected 32 fields, saw 33\\nSkipping line 10843: expected 32 fields, saw 33\\nSkipping line 10898: expected 32 fields, saw 33\\n'\n",
      "b'Skipping line 30020: expected 32 fields, saw 33\\n'\n",
      "/home/wendel/.asdf/installs/python/anaconda3-2019.07/lib/python3.7/site-packages/IPython/core/magic.py:187: DtypeWarning: Columns (25) have mixed types. Specify dtype option on import or set low_memory=False.\n",
      "  call = lambda f, *a, **k: f(*a, **k)\n",
      "b'Skipping line 21302: expected 32 fields, saw 33\\nSkipping line 25041: expected 32 fields, saw 33\\nSkipping line 25089: expected 32 fields, saw 33\\n'\n",
      "b'Skipping line 35337: expected 32 fields, saw 33\\n'\n",
      "b'Skipping line 50879: expected 32 fields, saw 33\\n'\n",
      "b'Skipping line 48593: expected 32 fields, saw 33\\n'\n",
      "b'Skipping line 1088: expected 32 fields, saw 33\\n'\n",
      "b'Skipping line 44635: expected 32 fields, saw 33\\n'\n",
      "b'Skipping line 53956: expected 32 fields, saw 33\\n'\n",
      "b'Skipping line 26638: expected 32 fields, saw 33\\n'\n",
      "b'Skipping line 22600: expected 32 fields, saw 33\\n'\n",
      "b'Skipping line 39938: expected 32 fields, saw 33\\n'\n",
      "b'Skipping line 56784: expected 32 fields, saw 33\\n'\n"
     ]
    },
    {
     "name": "stdout",
     "output_type": "stream",
     "text": [
      "files lidos ok\n",
      "processing df ok\n",
      "classificação setores ok\n",
      "classificação cias ok\n"
     ]
    },
    {
     "name": "stderr",
     "output_type": "stream",
     "text": [
      "/home/wendel/.asdf/installs/python/anaconda3-2019.07/lib/python3.7/site-packages/pandas/core/generic.py:2531: UserWarning: the 'timedelta' type is not supported, and will be written as integer values (ns frequency) to the database.\n",
      "  dtype=dtype, method=method)\n"
     ]
    },
    {
     "name": "stdout",
     "output_type": "stream",
     "text": [
      "dados exportados para o db ok\n",
      "df_rat deleted\n",
      "nomes dos arquivos importados, já inseridos no db\n",
      "CPU times: user 1min 2s, sys: 1.1 s, total: 1min 3s\n",
      "Wall time: 1min 5s\n"
     ]
    }
   ],
   "source": [
    "%%time\n",
    "import pandas as pd\n",
    "import funcs, gc\n",
    "\n",
    "files_names = funcs.get_files_names(only_not_imported=False)\n",
    "print('files ok')\n",
    "\n",
    "df_rat = funcs.read_files(files_names['rat'])\n",
    "print('files lidos ok')\n",
    "\n",
    "df_rat = funcs.data_rat_processing(df_rat)\n",
    "print('processing df ok')\n",
    "\n",
    "df_classif = funcs.get_df_classif()\n",
    "df_rat['SETOR'] = df_rat.apply(lambda row: funcs.classifica_setor(row, df_classif), axis=1)\n",
    "print('classificação setores ok')\n",
    "\n",
    "funcs.classifica_cia(df_rat=df_rat)\n",
    "print('classificação cias ok')\n",
    "\n",
    "df_rat.to_sql('tbl_rat', 'sqlite:///gdo.db', if_exists='replace', index=False)\n",
    "print('dados exportados para o db ok')\n",
    "\n",
    "# del df_rat\n",
    "print('df_rat deleted')\n",
    "gc.collect()\n",
    "\n",
    "pd.DataFrame(files_names['rat']).to_sql('tbl_imported_files', 'sqlite:///gdo.db', if_exists='replace', index=False)\n",
    "print('nomes dos arquivos importados, já inseridos no db')"
   ]
  },
  {
   "cell_type": "markdown",
   "metadata": {},
   "source": [
    "<h1 style='color:#008'>Read all RAT_VIATURA csv insert data on database</h1>"
   ]
  },
  {
   "cell_type": "code",
   "execution_count": 2,
   "metadata": {
    "collapsed": true
   },
   "outputs": [
    {
     "name": "stdout",
     "output_type": "stream",
     "text": [
      "files ok\n",
      "files lidos ok\n",
      "dados exportados para o db ok\n",
      "df_ratv deleted\n",
      "nomes dos arquivos importados, já inseridos no db\n",
      "CPU times: user 8.63 s, sys: 71.9 ms, total: 8.71 s\n",
      "Wall time: 8.99 s\n"
     ]
    }
   ],
   "source": [
    "%%time\n",
    "import pandas as pd\n",
    "import numpy as np\n",
    "import funcs, gc\n",
    "\n",
    "files_names = funcs.get_files_names(only_not_imported=False)\n",
    "print('files ok')\n",
    "\n",
    "df_ratv = funcs.read_files(files_names['ratv'], rat_data=False)\n",
    "print('files lidos ok')\n",
    "\n",
    "df_ratv.to_sql('tbl_rat_veiculos', 'sqlite:///gdo.db', if_exists='replace', index=False)\n",
    "print('dados exportados para o db ok')\n",
    "\n",
    "del df_ratv\n",
    "print('df_ratv deleted')\n",
    "gc.collect()\n",
    "\n",
    "df_names_files = pd.read_sql_table('tbl_imported_files', 'sqlite:///gdo.db')\n",
    "\n",
    "df_names_files = df_names_files[\n",
    "    ~ df_names_files['0'].str.contains('REDS_RAT_V')\n",
    "]\n",
    "\n",
    "pd.DataFrame(files_names['ratv']).to_sql('tbl_imported_files', 'sqlite:///gdo.db', if_exists='append', index=False)\n",
    "print('nomes dos arquivos importados, já inseridos no db')"
   ]
  },
  {
   "cell_type": "markdown",
   "metadata": {},
   "source": [
    "<h1 style='color:#008'>Read all RAT_EFETIVO csv insert data on database</h1>"
   ]
  },
  {
   "cell_type": "code",
   "execution_count": 3,
   "metadata": {
    "collapsed": true
   },
   "outputs": [
    {
     "name": "stdout",
     "output_type": "stream",
     "text": [
      "files ok\n",
      "files lidos ok\n",
      "dados exportados para o db ok\n",
      "df_rate deleted\n",
      "nomes dos arquivos importados, já inseridos no db\n",
      "CPU times: user 29 s, sys: 256 ms, total: 29.3 s\n",
      "Wall time: 30.2 s\n"
     ]
    }
   ],
   "source": [
    "%%time\n",
    "import pandas as pd\n",
    "import numpy as np\n",
    "import funcs, gc\n",
    "\n",
    "files_names = funcs.get_files_names(only_not_imported=False)\n",
    "print('files ok')\n",
    "\n",
    "df_rate = funcs.read_files(files_names['rate'], rat_data=False)\n",
    "print('files lidos ok')\n",
    "\n",
    "df_rate.to_sql('tbl_rat_efetivo', 'sqlite:///gdo.db', if_exists='replace', index=False)\n",
    "print('dados exportados para o db ok')\n",
    "\n",
    "del df_rate\n",
    "print('df_rate deleted')\n",
    "gc.collect()\n",
    "\n",
    "df_names_files = pd.read_sql_table('tbl_imported_files', 'sqlite:///gdo.db')\n",
    "\n",
    "df_names_files = df_names_files[\n",
    "    ~ df_names_files['0'].str.contains('REDS_RAT_E')\n",
    "]\n",
    "\n",
    "pd.DataFrame(files_names['rate']).to_sql('tbl_imported_files', 'sqlite:///gdo.db', if_exists='append', index=False)\n",
    "print('nomes dos arquivos importados, já inseridos no db')"
   ]
  },
  {
   "cell_type": "markdown",
   "metadata": {},
   "source": [
    "<h1 style='color:#008'>Read all RAT_PRODUTIVIDADE csv insert data on database</h1>"
   ]
  },
  {
   "cell_type": "code",
   "execution_count": 4,
   "metadata": {
    "collapsed": true
   },
   "outputs": [
    {
     "name": "stdout",
     "output_type": "stream",
     "text": [
      "files ok\n",
      "files lidos ok\n",
      "dados exportados para o db ok\n",
      "df_ratp deleted\n",
      "nomes dos arquivos importados, já inseridos no db\n",
      "CPU times: user 10.6 s, sys: 124 ms, total: 10.7 s\n",
      "Wall time: 11.3 s\n"
     ]
    }
   ],
   "source": [
    "%%time\n",
    "import pandas as pd\n",
    "import numpy as np\n",
    "import funcs, gc\n",
    "\n",
    "files_names = funcs.get_files_names(only_not_imported=False)\n",
    "print('files ok')\n",
    "\n",
    "df_ratp = funcs.read_files(files_names['ratp'], rat_data=False)\n",
    "print('files lidos ok')\n",
    "\n",
    "df_ratp.to_sql('tbl_rat_produtividade', 'sqlite:///gdo.db', if_exists='replace', index=False)\n",
    "print('dados exportados para o db ok')\n",
    "\n",
    "del df_ratp\n",
    "print('df_ratp deleted')\n",
    "gc.collect()\n",
    "\n",
    "df_names_files = pd.read_sql_table('tbl_imported_files', 'sqlite:///gdo.db')\n",
    "\n",
    "df_names_files = df_names_files[\n",
    "    ~ df_names_files['0'].str.contains('REDS_RAT_P')\n",
    "]\n",
    "\n",
    "pd.DataFrame(files_names['ratp']).to_sql('tbl_imported_files', 'sqlite:///gdo.db', if_exists='append', index=False)\n",
    "print('nomes dos arquivos importados, já inseridos no db')"
   ]
  }
 ],
 "metadata": {
  "celltoolbar": "Raw Cell Format",
  "kernelspec": {
   "display_name": "Python 3",
   "language": "python",
   "name": "python3"
  },
  "language_info": {
   "codemirror_mode": {
    "name": "ipython",
    "version": 3
   },
   "file_extension": ".py",
   "mimetype": "text/x-python",
   "name": "python",
   "nbconvert_exporter": "python",
   "pygments_lexer": "ipython3",
   "version": "3.7.3"
  }
 },
 "nbformat": 4,
 "nbformat_minor": 2
}
