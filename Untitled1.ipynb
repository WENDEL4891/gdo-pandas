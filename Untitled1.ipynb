{
 "cells": [
  {
   "cell_type": "code",
   "execution_count": 1,
   "metadata": {},
   "outputs": [],
   "source": [
    "import pandas as pd\n",
    "import numpy as np"
   ]
  },
  {
   "cell_type": "code",
   "execution_count": 2,
   "metadata": {},
   "outputs": [],
   "source": [
    "roubos_23 = pd.read_csv('Roubos_2020_23.csv')"
   ]
  },
  {
   "cell_type": "code",
   "execution_count": 24,
   "metadata": {},
   "outputs": [
    {
     "data": {
      "text/html": [
       "<div>\n",
       "<style scoped>\n",
       "    .dataframe tbody tr th:only-of-type {\n",
       "        vertical-align: middle;\n",
       "    }\n",
       "\n",
       "    .dataframe tbody tr th {\n",
       "        vertical-align: top;\n",
       "    }\n",
       "\n",
       "    .dataframe thead th {\n",
       "        text-align: right;\n",
       "    }\n",
       "</style>\n",
       "<table border=\"1\" class=\"dataframe\">\n",
       "  <thead>\n",
       "    <tr style=\"text-align: right;\">\n",
       "      <th></th>\n",
       "      <th>Número REDS</th>\n",
       "      <th>Município</th>\n",
       "      <th>Descrição Subclasse Nat Principal</th>\n",
       "      <th>Data Fato</th>\n",
       "      <th>Desc Longa Subgrupo Complemento Nat</th>\n",
       "      <th>Histórico Ocorrência</th>\n",
       "    </tr>\n",
       "  </thead>\n",
       "  <tbody>\n",
       "    <tr>\n",
       "      <td>195</td>\n",
       "      <td>2020-019258853-001</td>\n",
       "      <td>CLAUDIO</td>\n",
       "      <td>ROUBO</td>\n",
       "      <td>2020/04/22 00:00:00</td>\n",
       "      <td>VEICULO OU EMBARCACAO (ESPECIFICAR NA ABA VEIC...</td>\n",
       "      <td>comparecemos no endereço supracitado e, em con...</td>\n",
       "    </tr>\n",
       "    <tr>\n",
       "      <td>271</td>\n",
       "      <td>2020-002275510-001</td>\n",
       "      <td>ITAUNA</td>\n",
       "      <td>ROUBO</td>\n",
       "      <td>2020/01/14 00:00:00</td>\n",
       "      <td>BENS/VALORES DE PROPRIETARIO/FUNCIONARIO DE ES...</td>\n",
       "      <td>Acionados pela Sala de Operações da Fração, de...</td>\n",
       "    </tr>\n",
       "  </tbody>\n",
       "</table>\n",
       "</div>"
      ],
      "text/plain": [
       "            Número REDS Município Descrição Subclasse Nat Principal  \\\n",
       "195  2020-019258853-001   CLAUDIO                             ROUBO   \n",
       "271  2020-002275510-001    ITAUNA                             ROUBO   \n",
       "\n",
       "               Data Fato                Desc Longa Subgrupo Complemento Nat  \\\n",
       "195  2020/04/22 00:00:00  VEICULO OU EMBARCACAO (ESPECIFICAR NA ABA VEIC...   \n",
       "271  2020/01/14 00:00:00  BENS/VALORES DE PROPRIETARIO/FUNCIONARIO DE ES...   \n",
       "\n",
       "                                  Histórico Ocorrência  \n",
       "195  comparecemos no endereço supracitado e, em con...  \n",
       "271  Acionados pela Sala de Operações da Fração, de...  "
      ]
     },
     "execution_count": 24,
     "metadata": {},
     "output_type": "execute_result"
    }
   ],
   "source": [
    "roubos_23[\n",
    "    (roubos_23['Histórico Ocorrência'].str.contains('entregador') ) |\n",
    "    (roubos_23['Histórico Ocorrência'].str.contains('deliver') ) |\n",
    "    (roubos_23['Histórico Ocorrência'].str.contains('entrega\\s') ) |\n",
    "    (roubos_23['Histórico Ocorrência'].str.contains('pizza') ) |\n",
    "    (roubos_23['Histórico Ocorrência'].str.contains('hamburguer') )\n",
    "]"
   ]
  },
  {
   "cell_type": "code",
   "execution_count": null,
   "metadata": {},
   "outputs": [],
   "source": []
  }
 ],
 "metadata": {
  "kernelspec": {
   "display_name": "Python 3",
   "language": "python",
   "name": "python3"
  },
  "language_info": {
   "codemirror_mode": {
    "name": "ipython",
    "version": 3
   },
   "file_extension": ".py",
   "mimetype": "text/x-python",
   "name": "python",
   "nbconvert_exporter": "python",
   "pygments_lexer": "ipython3",
   "version": "3.7.4"
  }
 },
 "nbformat": 4,
 "nbformat_minor": 2
}
