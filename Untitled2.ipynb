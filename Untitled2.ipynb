{
 "cells": [
  {
   "cell_type": "markdown",
   "metadata": {},
   "source": [
    "<h2 style='align-text:center'>Critérios para Lei Seca</h2>\n",
    "\n",
    "OLS = Quantidade de Operações Lei Seca (Y04012) que atenderem a todos os critérios de eficiência, pelo menos um critério de eficácia e pelo menos um critério de efetividade Fórmula de cálculo\n",
    "\n",
    "Sendo:\n",
    "\n",
    "<b>Critérios de efiência</b>Critérios de eficiência: tempo mínimo de duração de 30 (trinta) minutos (podendo ser dinâmica), efetivo mínimo de 02 (dois) policiais militares e emprego de pelo menos 01 (uma) viatura;\n",
    "\n",
    "<b>Critérios de eficácia</b>: 03 (três) pessoas abordadas ou 03 (três) testes de etilômetro realizados ou 03 (três) veículos fiscalizados;\n",
    "\n",
    "<b>Critérios de efetividade</b>: pessoas presas/apreendidas; ou armas de fogo, munições, explosivos ou coletes apreendidos; ou drogas apreendidas; ou veículos recuperados produto de crime."
   ]
  }
 ],
 "metadata": {
  "kernelspec": {
   "display_name": "Python 3",
   "language": "python",
   "name": "python3"
  },
  "language_info": {
   "codemirror_mode": {
    "name": "ipython",
    "version": 3
   },
   "file_extension": ".py",
   "mimetype": "text/x-python",
   "name": "python",
   "nbconvert_exporter": "python",
   "pygments_lexer": "ipython3",
   "version": "3.7.3"
  }
 },
 "nbformat": 4,
 "nbformat_minor": 2
}
